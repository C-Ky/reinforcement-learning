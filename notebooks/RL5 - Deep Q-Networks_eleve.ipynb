{
 "cells": [
  {
   "cell_type": "markdown",
   "metadata": {},
   "source": [
    "**Class 4: Deep Q Networks.**\n",
    "\n",
    "1. [Everything you need to know](#everything)\n",
    "1. [Reminder](#reminder)\n",
    "1. <a href=\"#sec1\">Environments</a>\n",
    "    1. <a href=\"#sec1.1\">Cartpole</a>\n",
    "    2. <a href=\"#sec1.2\">Cartpole swing-up</a>\n",
    "    3. <a href=\"#sec1.3\">Pong</a>\n",
    "2. <a href=\"#sec2\">Value Iteration as a sequence of Supervized Learning problems</a>\n",
    "3. <a href=\"#sec3\">Experience Replay</a>\n",
    "4. <a href=\"#sec4\">A deep Q-network</a>\n",
    "5. <a href=\"#sec5\">Making DQN more efficient</a>\n",
    "    1. <a href=\"#sec5.1\">Changing the optimizer\n",
    "    2. <a href=\"#sec5.2\">Several gradient steps\n",
    "    3. <a href=\"#sec5.3\">Target network</a>\n",
    "    4. <a href=\"#sec5.4\">Error clipping</a>\n",
    "6. <a href=\"#sec6\">Metrics</a>\n",
    "7. <a href=\"#sec7\">DQN on image-based tasks</a>\n",
    "8. <a href=\"#sec8\">Going further</a>\n",
    "9. [Challenge](#challenge)\n",
    "    1. [Bicycle](#bicycle)\n",
    "    2. [Structured Treatment Interruptions](#sti)\n",
    "    3. [Your turn to play](#turn)"
   ]
  },
  {
   "cell_type": "markdown",
   "metadata": {},
   "source": [
    "In the previous classes we saw that one could replace the model-based value iteration process by an approximate value iteration one. When the approximation is done by performing stochastic approximation, we obtain the $Q$ learning algorithm. We saw it was straightforward to extend this to use experience replay memories and batch stochastic gradient descent. In this class, we combine the stochastic gradient descent approach with replay memories and represent $Q$ as a neural network. This yields the Deep Q-Networks algorithm.\n",
    "\n",
    "There are few new concepts in this class compared to previous ones. Mainly, what we do is bring neural networks into the framework we have previously built. Therefore, this class is aimed at more practice. For this purpose, we start by introducing a set of [environments](#sec1) to illustrate further developments. Then we will start from Value Iteration and repeat the thought process of the previous classes, introduce [stochastic gradient descent](#sec2), [experience replay](#sec3) and reach the [DQN algorithm](#sec4). The end of the class is an [open challenge](#challenge) on several difficult benchmarks.\n",
    "\n",
    "<div class=\"alert alert-warning\">\n",
    "\n",
    "**Prerequisites:**\n",
    "- Stochastic Approximation for Approximate Value Iteration\n",
    "- Deep Learning\n",
    "<div>"
   ]
  },
  {
   "cell_type": "markdown",
   "metadata": {},
   "source": [
    "Let's start with this quote:\n",
    "\n",
    "> The idea that we learn by interacting with our environment is probably the first to occur to us when we think about the nature of learning. When an infant plays, waves its arms, or looks about, it has no explicit teacher, but it does have a direct sensorimotor connection to its environment. Exercising this connection produces a wealth of information about cause and effect, about the consequences of actions, and about what to do in order to achieve goals. Throughout our lives, such interactions are undoubtedly a major source of knowledge about our environment and ourselves. Whether we are learning to drive a car or to hold a conversation, we are acutely aware of how our environment responds to what we do, and we seek to influence what happens through our behavior. Learning from interaction is a foundational idea underlying nearly all theories of learning and intelligence. (Richard S. Sutton)"
   ]
  },
  {
   "cell_type": "markdown",
   "metadata": {},
   "source": [
    "# Everything you need to know\n",
    "\n",
    "Everything you should remember after this session.<br>\n",
    "<br>\n",
    "<div class=\"alert alert-success\">\n",
    "\n",
    "- Deep Q-Networks is an approximate value iteration algorithm that uses experience replay and stochastic gradient descent to learn $Q^*$ as a neural network. The DQN itself is the neural network.\n",
    "- DQN pseudo-code\n",
    "         state = init()\n",
    "         loop:\n",
    "            action = greedy_action(DQN) or random_action()\n",
    "            new_state, reward = step(state, action)\n",
    "            replay_memory.add(state, action, reward, new_state)\n",
    "            minibatch = replay_memory.sample(minibatch_size)\n",
    "            X_train = Y_train = []\n",
    "            for (s,a,r,s') in minibatch:\n",
    "                Q  = DQN.predict(s)\n",
    "                Q' = DQN.predict(s')\n",
    "                if non-terminal(s'): \n",
    "                    update = r + gamma * max(Q')    \n",
    "                else:  \n",
    "                    update = r\n",
    "                Q[a] = update\n",
    "                X_train.add(s)\n",
    "                Y_train.add(Q)\n",
    "            DQN.train_one_step(X_train,Y_train)\n",
    "            state = new_state\n",
    "- The pseudo-code above can be improved by introducing a second network $Q^-$ called *target network*, that is used to compute `update` in the pseudo-code above. Every $C$ steps $Q^-$ is replaced by the learned network.\n",
    "- Common improvements to DQN involve using a Huber loss and tuning the optimizer.\n",
    "</div>"
   ]
  },
  {
   "cell_type": "markdown",
   "metadata": {},
   "source": [
    "# Reminder\n",
    "\n",
    "- Value Iteration builds the sequence $Q_{n+1} = T^* Q_n$ that converges to $Q^*$\n",
    "- Given a set of samples $\\{(s,a,r,s')\\}$, one can perform stochastic gradient descent on the loss $L_n(Q) = \\|Q - T^* Q_n \\|_2$ and thus approximate the sequence of value functions from value iteration."
   ]
  },
  {
   "cell_type": "markdown",
   "metadata": {},
   "source": [
    "# <a id=\"sec1\"></a> Environments\n",
    "\n",
    "In this session, we will work with three different environments:\n",
    "- CartPole\n",
    "- A modified version of CartPole\n",
    "- Pong"
   ]
  },
  {
   "cell_type": "markdown",
   "metadata": {},
   "source": [
    "Do \"pip install gym[accept-rom-license]\" in a terminal (to make atari envs work)"
   ]
  },
  {
   "cell_type": "code",
   "execution_count": 2,
   "metadata": {},
   "outputs": [],
   "source": [
    "#from gym import logger\n",
    "import numpy as np\n",
    "%matplotlib inline\n",
    "import matplotlib.pyplot as plt\n",
    "#logger.set_level(gym.logger.DISABLED)"
   ]
  },
  {
   "cell_type": "markdown",
   "metadata": {},
   "source": [
    "## <a id=sec1.1></a>CartPole"
   ]
  },
  {
   "cell_type": "code",
   "execution_count": 3,
   "metadata": {},
   "outputs": [
    {
     "name": "stderr",
     "output_type": "stream",
     "text": [
      "/home/ubuntu/anaconda3/envs/pie-rl/lib/python3.8/site-packages/gym/logger.py:30: UserWarning: \u001b[33mWARN: Box bound precision lowered by casting to float32\u001b[0m\n",
      "  warnings.warn(colorize('%s: %s'%('WARN', msg % args), 'yellow'))\n"
     ]
    }
   ],
   "source": [
    "import gym\n",
    "cartpole = gym.make('CartPole-v1')"
   ]
  },
  {
   "cell_type": "markdown",
   "metadata": {},
   "source": [
    "From the [OpenAI Gym website](https://gym.openai.com/envs/CartPole-v0/)\n",
    "\n",
    "> A pole is attached by an un-actuated joint to a cart, which moves along a frictionless track. The system is controlled by applying a force of +1 or -1 to the cart. The pendulum starts upright, and the goal is to prevent it from falling over. A reward of +1 is provided for every timestep that the pole remains upright. The episode ends when the pole is more than 15 degrees from vertical, or the cart moves more than 2.4 units from the center."
   ]
  },
  {
   "cell_type": "markdown",
   "metadata": {},
   "source": [
    "Beware that, as most Gym environments, CartPole has a maximum number of steps before necessarily returning `done=True`."
   ]
  },
  {
   "cell_type": "code",
   "execution_count": 3,
   "metadata": {},
   "outputs": [
    {
     "data": {
      "text/plain": [
       "500"
      ]
     },
     "execution_count": 3,
     "metadata": {},
     "output_type": "execute_result"
    }
   ],
   "source": [
    "cartpole._max_episode_steps"
   ]
  },
  {
   "cell_type": "markdown",
   "metadata": {},
   "source": [
    "The cartpole is represented by a state $s = (x, \\dot{x}, \\theta, \\dot{\\theta})$ with :\n",
    "  - $x$ the position of the cartpole along the x-axis\n",
    "  - $\\theta$ the angle of the pole"
   ]
  },
  {
   "cell_type": "code",
   "execution_count": 4,
   "metadata": {},
   "outputs": [
    {
     "name": "stdout",
     "output_type": "stream",
     "text": [
      "Discrete(2)\n",
      "Box([-4.8000002e+00 -3.4028235e+38 -4.1887903e-01 -3.4028235e+38], [4.8000002e+00 3.4028235e+38 4.1887903e-01 3.4028235e+38], (4,), float32)\n",
      "{'render.modes': ['human', 'rgb_array'], 'video.frames_per_second': 50}\n"
     ]
    }
   ],
   "source": [
    "print(cartpole.action_space)\n",
    "print(cartpole.observation_space)\n",
    "print(cartpole.env.metadata)"
   ]
  },
  {
   "cell_type": "code",
   "execution_count": 4,
   "metadata": {},
   "outputs": [
    {
     "name": "stdout",
     "output_type": "stream",
     "text": [
      "10\n"
     ]
    }
   ],
   "source": [
    "import time\n",
    "import numpy as np\n",
    "\n",
    "x = cartpole.reset() #gives initial state\n",
    "cartpole.render() #display\n",
    "for i in range(2000):\n",
    "    _, _, d, _ = cartpole.step(np.random.randint(2))\n",
    "    cartpole.render()\n",
    "    if d:\n",
    "        print(i)\n",
    "        break\n",
    "    time.sleep(cartpole.tau) # not actually real-time, just for readability\n",
    "\n",
    "cartpole.close()"
   ]
  },
  {
   "cell_type": "markdown",
   "metadata": {},
   "source": [
    "## <a id=sec1.2></a>CartPole Swing-up\n",
    "\n",
    "The idea here is to keep the same environment, but instead of learning how to stabilize it around the unstable equilibrium point, we'd like to learn to swing it up. Here are the changes:\n",
    "- `reset` now puts the pole pointing down. The initial state is $(0,0,\\pi,0)$ plus a vector of four uniformly random values in [-0.05,0.05] (noise).\n",
    "- `step` now returns `done=True` when the cart leaves the $x\\in [-2.4,2.4]$ interval or when the pole swings faster than $4\\pi$ radians per second.\n",
    "- the reward is still +1 for keeping the pole within 12 degrees of the vertical, it is 0 for all other time steps and -10 for swinging too fast or exiting the screen.\n",
    "\n",
    "Very difficult problem"
   ]
  },
  {
   "cell_type": "code",
   "execution_count": 5,
   "metadata": {},
   "outputs": [],
   "source": [
    "from environments.swingup import CartPoleSwingUp\n",
    "swingup = CartPoleSwingUp()"
   ]
  },
  {
   "cell_type": "code",
   "execution_count": 7,
   "metadata": {},
   "outputs": [
    {
     "name": "stdout",
     "output_type": "stream",
     "text": [
      "212\n"
     ]
    }
   ],
   "source": [
    "import numpy as np\n",
    "\n",
    "x = swingup.reset()\n",
    "swingup.render()\n",
    "\n",
    "for i in range(1000):\n",
    "    _, _, d, _ = swingup.step(np.random.randint(2))\n",
    "    swingup.render()\n",
    "    if d:\n",
    "        print(i)\n",
    "        break\n",
    "\n",
    "swingup.close()"
   ]
  },
  {
   "cell_type": "markdown",
   "metadata": {},
   "source": [
    "## <a id=sec1.3></a>Pong\n",
    "\n",
    "Let's build an agent that learns to play Pong, one of the [Atari games](https://github.com/openai/gym/blob/master/gym/envs/atari/atari_env.py) in Gym (originally in the [Arcade Learning Environment](https://github.com/mgbellemare/Arcade-Learning-Environment)). You might want to try different games later on (like the popular Breakout game for instance)."
   ]
  },
  {
   "cell_type": "code",
   "execution_count": 13,
   "metadata": {},
   "outputs": [
    {
     "name": "stderr",
     "output_type": "stream",
     "text": [
      "A.L.E: Arcade Learning Environment (version +978d2ce)\n",
      "[Powered by Stella]\n"
     ]
    },
    {
     "ename": "Error",
     "evalue": "We're Unable to find the game \"Pong\". Note: Gym no longer distributes ROMs. If you own a license to use the necessary ROMs for research purposes you can download them via `pip install gym[accept-rom-license]`. Otherwise, you should try importing \"Pong\" via the command `ale-import-roms`. If you believe this is a mistake perhaps your copy of \"Pong\" is unsupported. To check if this is the case try providing the environment variable `PYTHONWARNINGS=default::ImportWarning:ale_py.roms`. For more information see: https://github.com/mgbellemare/Arcade-Learning-Environment#rom-management",
     "output_type": "error",
     "traceback": [
      "\u001b[0;31m---------------------------------------------------------------------------\u001b[0m",
      "\u001b[0;31mError\u001b[0m                                     Traceback (most recent call last)",
      "\u001b[0;32m/tmp/ipykernel_3565/1420506476.py\u001b[0m in \u001b[0;36m<module>\u001b[0;34m\u001b[0m\n\u001b[1;32m      1\u001b[0m \u001b[0;32mimport\u001b[0m \u001b[0mgym\u001b[0m\u001b[0;34m\u001b[0m\u001b[0;34m\u001b[0m\u001b[0m\n\u001b[0;32m----> 2\u001b[0;31m \u001b[0mpong\u001b[0m \u001b[0;34m=\u001b[0m \u001b[0mgym\u001b[0m\u001b[0;34m.\u001b[0m\u001b[0mmake\u001b[0m\u001b[0;34m(\u001b[0m\u001b[0;34m'Pong-v4'\u001b[0m\u001b[0;34m)\u001b[0m\u001b[0;34m\u001b[0m\u001b[0;34m\u001b[0m\u001b[0m\n\u001b[0m",
      "\u001b[0;32m~/.local/lib/python3.9/site-packages/gym/envs/registration.py\u001b[0m in \u001b[0;36mmake\u001b[0;34m(id, **kwargs)\u001b[0m\n\u001b[1;32m    233\u001b[0m \u001b[0;34m\u001b[0m\u001b[0m\n\u001b[1;32m    234\u001b[0m \u001b[0;32mdef\u001b[0m \u001b[0mmake\u001b[0m\u001b[0;34m(\u001b[0m\u001b[0mid\u001b[0m\u001b[0;34m,\u001b[0m \u001b[0;34m**\u001b[0m\u001b[0mkwargs\u001b[0m\u001b[0;34m)\u001b[0m\u001b[0;34m:\u001b[0m\u001b[0;34m\u001b[0m\u001b[0;34m\u001b[0m\u001b[0m\n\u001b[0;32m--> 235\u001b[0;31m     \u001b[0;32mreturn\u001b[0m \u001b[0mregistry\u001b[0m\u001b[0;34m.\u001b[0m\u001b[0mmake\u001b[0m\u001b[0;34m(\u001b[0m\u001b[0mid\u001b[0m\u001b[0;34m,\u001b[0m \u001b[0;34m**\u001b[0m\u001b[0mkwargs\u001b[0m\u001b[0;34m)\u001b[0m\u001b[0;34m\u001b[0m\u001b[0;34m\u001b[0m\u001b[0m\n\u001b[0m\u001b[1;32m    236\u001b[0m \u001b[0;34m\u001b[0m\u001b[0m\n\u001b[1;32m    237\u001b[0m \u001b[0;34m\u001b[0m\u001b[0m\n",
      "\u001b[0;32m~/.local/lib/python3.9/site-packages/gym/envs/registration.py\u001b[0m in \u001b[0;36mmake\u001b[0;34m(self, path, **kwargs)\u001b[0m\n\u001b[1;32m    127\u001b[0m             \u001b[0mlogger\u001b[0m\u001b[0;34m.\u001b[0m\u001b[0minfo\u001b[0m\u001b[0;34m(\u001b[0m\u001b[0;34m\"Making new env: %s\"\u001b[0m\u001b[0;34m,\u001b[0m \u001b[0mpath\u001b[0m\u001b[0;34m)\u001b[0m\u001b[0;34m\u001b[0m\u001b[0;34m\u001b[0m\u001b[0m\n\u001b[1;32m    128\u001b[0m         \u001b[0mspec\u001b[0m \u001b[0;34m=\u001b[0m \u001b[0mself\u001b[0m\u001b[0;34m.\u001b[0m\u001b[0mspec\u001b[0m\u001b[0;34m(\u001b[0m\u001b[0mpath\u001b[0m\u001b[0;34m)\u001b[0m\u001b[0;34m\u001b[0m\u001b[0;34m\u001b[0m\u001b[0m\n\u001b[0;32m--> 129\u001b[0;31m         \u001b[0menv\u001b[0m \u001b[0;34m=\u001b[0m \u001b[0mspec\u001b[0m\u001b[0;34m.\u001b[0m\u001b[0mmake\u001b[0m\u001b[0;34m(\u001b[0m\u001b[0;34m**\u001b[0m\u001b[0mkwargs\u001b[0m\u001b[0;34m)\u001b[0m\u001b[0;34m\u001b[0m\u001b[0;34m\u001b[0m\u001b[0m\n\u001b[0m\u001b[1;32m    130\u001b[0m         \u001b[0;32mreturn\u001b[0m \u001b[0menv\u001b[0m\u001b[0;34m\u001b[0m\u001b[0;34m\u001b[0m\u001b[0m\n\u001b[1;32m    131\u001b[0m \u001b[0;34m\u001b[0m\u001b[0m\n",
      "\u001b[0;32m~/.local/lib/python3.9/site-packages/gym/envs/registration.py\u001b[0m in \u001b[0;36mmake\u001b[0;34m(self, **kwargs)\u001b[0m\n\u001b[1;32m     88\u001b[0m         \u001b[0;32melse\u001b[0m\u001b[0;34m:\u001b[0m\u001b[0;34m\u001b[0m\u001b[0;34m\u001b[0m\u001b[0m\n\u001b[1;32m     89\u001b[0m             \u001b[0mcls\u001b[0m \u001b[0;34m=\u001b[0m \u001b[0mload\u001b[0m\u001b[0;34m(\u001b[0m\u001b[0mself\u001b[0m\u001b[0;34m.\u001b[0m\u001b[0mentry_point\u001b[0m\u001b[0;34m)\u001b[0m\u001b[0;34m\u001b[0m\u001b[0;34m\u001b[0m\u001b[0m\n\u001b[0;32m---> 90\u001b[0;31m             \u001b[0menv\u001b[0m \u001b[0;34m=\u001b[0m \u001b[0mcls\u001b[0m\u001b[0;34m(\u001b[0m\u001b[0;34m**\u001b[0m\u001b[0m_kwargs\u001b[0m\u001b[0;34m)\u001b[0m\u001b[0;34m\u001b[0m\u001b[0;34m\u001b[0m\u001b[0m\n\u001b[0m\u001b[1;32m     91\u001b[0m \u001b[0;34m\u001b[0m\u001b[0m\n\u001b[1;32m     92\u001b[0m         \u001b[0;31m# Make the environment aware of which spec it came from.\u001b[0m\u001b[0;34m\u001b[0m\u001b[0;34m\u001b[0m\u001b[0;34m\u001b[0m\u001b[0m\n",
      "\u001b[0;32m~/.local/lib/python3.9/site-packages/gym/envs/atari/environment.py\u001b[0m in \u001b[0;36m__init__\u001b[0;34m(self, game, mode, difficulty, obs_type, frameskip, repeat_action_probability, full_action_space, render_mode)\u001b[0m\n\u001b[1;32m    121\u001b[0m \u001b[0;34m\u001b[0m\u001b[0m\n\u001b[1;32m    122\u001b[0m         \u001b[0;31m# Seed + Load\u001b[0m\u001b[0;34m\u001b[0m\u001b[0;34m\u001b[0m\u001b[0;34m\u001b[0m\u001b[0m\n\u001b[0;32m--> 123\u001b[0;31m         \u001b[0mself\u001b[0m\u001b[0;34m.\u001b[0m\u001b[0mseed\u001b[0m\u001b[0;34m(\u001b[0m\u001b[0;34m)\u001b[0m\u001b[0;34m\u001b[0m\u001b[0;34m\u001b[0m\u001b[0m\n\u001b[0m\u001b[1;32m    124\u001b[0m \u001b[0;34m\u001b[0m\u001b[0m\n\u001b[1;32m    125\u001b[0m         self._action_set = (\n",
      "\u001b[0;32m~/.local/lib/python3.9/site-packages/gym/envs/atari/environment.py\u001b[0m in \u001b[0;36mseed\u001b[0;34m(self, seed)\u001b[0m\n\u001b[1;32m    169\u001b[0m \u001b[0;34m\u001b[0m\u001b[0m\n\u001b[1;32m    170\u001b[0m         \u001b[0;32mif\u001b[0m \u001b[0;32mnot\u001b[0m \u001b[0mhasattr\u001b[0m\u001b[0;34m(\u001b[0m\u001b[0mroms\u001b[0m\u001b[0;34m,\u001b[0m \u001b[0mself\u001b[0m\u001b[0;34m.\u001b[0m\u001b[0m_game\u001b[0m\u001b[0;34m)\u001b[0m\u001b[0;34m:\u001b[0m\u001b[0;34m\u001b[0m\u001b[0;34m\u001b[0m\u001b[0m\n\u001b[0;32m--> 171\u001b[0;31m             raise error.Error(\n\u001b[0m\u001b[1;32m    172\u001b[0m                 \u001b[0;34mf\"We're Unable to find the game \\\"{self._game}\\\". Note: Gym no longer distributes ROMs. \"\u001b[0m\u001b[0;34m\u001b[0m\u001b[0;34m\u001b[0m\u001b[0m\n\u001b[1;32m    173\u001b[0m                 \u001b[0;34mf\"If you own a license to use the necessary ROMs for research purposes you can download them \"\u001b[0m\u001b[0;34m\u001b[0m\u001b[0;34m\u001b[0m\u001b[0m\n",
      "\u001b[0;31mError\u001b[0m: We're Unable to find the game \"Pong\". Note: Gym no longer distributes ROMs. If you own a license to use the necessary ROMs for research purposes you can download them via `pip install gym[accept-rom-license]`. Otherwise, you should try importing \"Pong\" via the command `ale-import-roms`. If you believe this is a mistake perhaps your copy of \"Pong\" is unsupported. To check if this is the case try providing the environment variable `PYTHONWARNINGS=default::ImportWarning:ale_py.roms`. For more information see: https://github.com/mgbellemare/Arcade-Learning-Environment#rom-management"
     ]
    }
   ],
   "source": [
    "import gym\n",
    "pong = gym.make('Pong-v4')"
   ]
  },
  {
   "cell_type": "markdown",
   "metadata": {},
   "source": [
    "Here is the environment's description.\n",
    "> Maximize your score in the Atari 2600 game Pong. In this environment, the observation is an RGB image of the screen, which is an array of shape (210, 160, 3). Each action is repeatedly performed for a duration of k frames, where k is uniformly sampled from $\\{2, 3, 4\\}$."
   ]
  },
  {
   "cell_type": "code",
   "execution_count": null,
   "metadata": {},
   "outputs": [],
   "source": [
    "import numpy as np\n",
    "print(pong.observation_space)\n",
    "print(pong.observation_space.shape)\n",
    "print(np.min(pong.observation_space.low))\n",
    "print(np.max(pong.observation_space.high))\n",
    "print(pong.action_space) \n",
    "#help(env.observation_space)"
   ]
  },
  {
   "cell_type": "code",
   "execution_count": null,
   "metadata": {},
   "outputs": [],
   "source": [
    "%matplotlib inline\n",
    "import matplotlib.pyplot as plt\n",
    "x = pong.reset()\n",
    "plt.imshow(x)\n",
    "plt.show()"
   ]
  },
  {
   "cell_type": "markdown",
   "metadata": {},
   "source": [
    "<div class=\"alert alert-warning\">\n",
    "\n",
    "**Exercise:** What is the number of possible states? Why is this not an MDP? What would one need to turn this back into an MDP?\n",
    "</div>"
   ]
  },
  {
   "cell_type": "markdown",
   "metadata": {},
   "source": [
    "<div class=\"alert alert-danger\">\n",
    "    <a href=\"#Pong-theory\" data-toggle=\"collapse\"><b>Answers:</b></a><br>\n",
    "<div id=\"Pong-theory\" class=\"collapse\">\n",
    "\n",
    "One frame is a $210\\times 160$ RGB image with a 256 color palette, so the set of all possible frames has size $256^{210 \\times 160 \\times 3} \\sim 10^{242579}$. That's a little too many for an efficient enumeration. Of course, most of the possible images will never occur in a Breakout game and the true state space is actually a much smaller subset of the full set of possible images. Nevertheless, unless we provide a large engineering effort in describing the state space with few variables (which would be contradictory of our goal of a \"human-level\" AI) we will need to automatically discover some structure in the state sampled data.\n",
    "\n",
    "This is not an MDP because the transition dynamics do not respect Markov's property. The probability of transitioning from $s_t$ to $s_{t+1}$ is *not* independent of previous states. The problem here is that a single frame of the game does not reflect the velocity of the ball.\n",
    "\n",
    "To recover Markov's property one could simply stack a few frames together in the state space.\n",
    "</div>\n",
    "</div>"
   ]
  },
  {
   "cell_type": "markdown",
   "metadata": {},
   "source": [
    "There are 18 buttons on the Atari controller. However not all games use all buttons. Our interface to Pong specifies 6 possible actions:\n",
    "- 0 NOOP (no operation)\n",
    "- 1 FIRE (press fire button, doesn't do anything in Pong)\n",
    "- 2 RIGHT (actually moves the paddle up in Pong)\n",
    "- 3 LEFT (actually moves the paddle left in Pong)\n",
    "- 4 UP (moves the paddle upwards)\n",
    "- 5 DOWN (moves the paddle downwards)\n",
    "\n",
    "The available actions in Pong go up to the 6th action for naming consistency (UP and DOWN), but the four first actions are not really useful.\n",
    "\n",
    "Also, for an unknown reason, the game does not start until the 20th frame (but always starts automatically, pressing FIRE does not change anything).\n",
    "\n",
    "The frame rate is 60Hz.\n",
    "\n",
    "To avoid confusion between the 6 actions allowed by Gym, let's build a wrapper around our environment, with only 2 possible actions (\"0\" for UP and \"1\" for DOWN) and a downscaled observation space (converted to gray scale,images cropped,sampled(sous echantillonné) but beware stack images creates new channels (4 here)). Unless you're curious and want to dig in the code, you can simply run the following cells and just use the resulting environment."
   ]
  },
  {
   "cell_type": "code",
   "execution_count": null,
   "metadata": {},
   "outputs": [],
   "source": [
    "from environments.pongwrapper import PongWrapper"
   ]
  },
  {
   "cell_type": "code",
   "execution_count": null,
   "metadata": {},
   "outputs": [],
   "source": [
    "pong = PongWrapper(noop_max=0,\n",
    "                   frame_skip=4,\n",
    "                   terminal_on_life_loss=True,\n",
    "                   grayscale_obs=True,\n",
    "                   scale_obs=True)"
   ]
  },
  {
   "cell_type": "code",
   "execution_count": null,
   "metadata": {
    "scrolled": true
   },
   "outputs": [],
   "source": [
    "# Trying a random agent in Pong\n",
    "import time\n",
    "import numpy as np\n",
    "%matplotlib inline\n",
    "import matplotlib.pyplot as plt\n",
    "\n",
    "pong.reset()\n",
    "pong.render()\n",
    "for i in range(60):\n",
    "    a = np.random.randint(2)\n",
    "    x, r, _, _ = pong.step(a)\n",
    "    pong.render()\n",
    "    #print('\\r', \"reward\", r, end=\"\")\n",
    "    time.sleep(0.1)\n",
    "    \n",
    "pong.close()\n",
    "print(\"shape: \", x.shape, \", min = \", x.min(), \", max = \", x.max(), \", dtype = \", x.dtype, sep='')\n",
    "plt.imshow(x, cmap='gray');"
   ]
  },
  {
   "cell_type": "markdown",
   "metadata": {},
   "source": [
    "# <a id=sec2></a>Value Iteration as a sequence of Supervized Learning problems\n",
    "\n",
    "Recall the Value Iteration update: $Q_{n+1} = T^*Q_n$.\n",
    "\n",
    "<div class=\"alert alert-warning\">\n",
    "\n",
    "**Exercise:**  \n",
    "Suppose $Q_{n+1}$ is a parametric function $Q(s,a;\\theta_{n+1})$ with parameters $\\theta_{n+1}$. We want to approximate $T^*Q_n$ with $Q(s,a;\\theta_{n+1})$. Write the loss function minimized for this regression problem.\n",
    "</div>"
   ]
  },
  {
   "cell_type": "markdown",
   "metadata": {},
   "source": [
    "<div class=\"alert alert-danger\">\n",
    "    <a href=\"#ValueIteration\" data-toggle=\"collapse\"><b>Answers:</b></a><br>\n",
    "<div id=\"ValueIteration\" class=\"collapse\">\n",
    "\n",
    "Let's start over from the beginning. We want to find:\n",
    "$$\\pi^*(s) = \\arg\\max_{\\pi} \\mathbb{E}_{\\left(r_t\\right)_{t\\in \\mathbb{N}}} \\left[ \\sum_{t=0}^\\infty \\gamma^t r_t \\ \\Big| \\ s, \\pi \\right], \\ \\forall s\\in S.$$\n",
    "\n",
    "We have seen this was equivalent to finding the optimal value function $Q^*$:\n",
    "$$Q^*(s,a) = \\max_{\\pi} \\mathbb{E}_{\\left(r_t\\right)_{t\\in \\mathbb{N}}} \\left[ \\sum_{t=0}^\\infty \\gamma^t r_t \\ \\Big| \\  s,a, \\pi \\right], \\ \\forall (s,a) \\in S\\times A.$$\n",
    "\n",
    "And we have established that $Q^*$ was the only solution to Bellman's optimality equation:\n",
    "$$Q(s,a) = \\mathbb{E}_{s' \\sim p(\\cdot|s,a)} \\left[r(s,a,s') + \\gamma \\max_{a'} Q(s',a')\\right].$$\n",
    "\n",
    "By writing $T^*$ Bellman's optimality operator, we have, by definition:\n",
    "$$(T^*Q)(s,a) = \\mathbb{E}_{s' \\sim p(\\cdot|s,a)} \\left[r(s,a,s') + \\gamma \\max_{a'} Q(s',a')\\right].$$\n",
    "\n",
    "And thus, $Q^*$ is the only solution to $Q=T^*Q$.\n",
    "\n",
    "It appears $T^*$ is a contraction mapping on the $\\mathcal{F}(S\\times A,\\mathbb{R})$ space. Value Iteration exploits this property to build the sequence $Q_{n+1} = T^*Q_n$ which converges to $Q^*$.\n",
    "\n",
    "Let's now suppose that $Q_n$ is a function approximator, whose parameters are $\\theta_n$. We shall write $Q_n(s,a) = Q(s,a;\\theta_n)$. Then building $\\theta_{n+1}$ knowing $\\theta_n$ is the regression problem that minimizes the loss:\n",
    "$$L_n(\\theta) = \\left\\| y_n(s,a) - Q(s,a;\\theta) \\right\\|,\\\\ \n",
    "\\textrm{with } y_n(s,a) = \\mathbb{E}_{s' \\sim p(\\cdot|s,a)} \\left[r(s,a,s') + \\gamma \\max_{a'} Q(s',a';\\theta_{n})\\right].$$\n",
    "\n",
    "If this loss can be optimized and goes to zero, then we have found the true $Q_{n+1}$. If not, then we have found an approximation of it in the norm used to define $L_n$.\n",
    "\n",
    "</div>\n",
    "</div>"
   ]
  },
  {
   "cell_type": "markdown",
   "metadata": {},
   "source": [
    "$y_n$ is objective function to learn for $Q_{n+1}$ (optim is done on $\\theta$)\n",
    "\n",
    "in SGD, echantillonnage est utilisé pour approximer espérance donc dans gradient_step\n",
    "les echantillons doivent être iid : \n",
    "- base de donnée remplie au fur et à mesure selon distribution ro changeante (quand on gagne expérience) donc identiquement impossible\n",
    "- on tire uniformément dans la base de données (plus de pb de séquençage des states, actions qui dépendent du state précédent) donc indépendance ok"
   ]
  },
  {
   "cell_type": "markdown",
   "metadata": {},
   "source": [
    "<div class=\"alert alert-warning\">\n",
    "\n",
    "**Exercise:**  \n",
    "Use the L2 norm in the loss of the regression problem above, then write the gradient of the loss with respect to the regressor's parameters. Use this to introduce a stochastic gradient descent method to find $\\theta_{n+1}$.\n",
    "</div>"
   ]
  },
  {
   "cell_type": "markdown",
   "metadata": {},
   "source": [
    "<div class=\"alert alert-danger\">\n",
    "    <a href=\"#VILoss\" data-toggle=\"collapse\"><b>Answers:</b></a><br>\n",
    "<div id=\"VILoss\" class=\"collapse\">\n",
    "\n",
    "Our loss becomes:\n",
    "$$L_n(\\theta) = \\frac{1}{2} \\mathbb{E}_{(s,a) \\sim \\rho(\\cdot)}\\left[ \\big( y_n(s,a) - Q(s,a;\\theta) \\big)^2 \\right],\\\\\n",
    "\\textrm{with } y_n(s,a) = \\mathbb{E}_{s' \\sim p(\\cdot|s,a)} \\left[r(s,a,s') + \\gamma \\max_{a'} Q(s',a';\\theta_{n})\\right].$$\n",
    "\n",
    "In the expression above, $\\rho$ is a distribution over the state-action space. Often, it is considered to be the behavior distribution, that is the distribution of samples under the current behavior policy, like $\\epsilon$-greedy. Note that this choice is debatable.\n",
    "\n",
    "So the gradient of this loss is:\n",
    "$$\\nabla_\\theta L_n(\\theta) = \\mathbb{E}_{(s,a) \\sim \\rho(\\cdot)}\\left[ \\big( y_n(s,a) - Q(s,a;\\theta) \\big) \\nabla_\\theta Q(s,a;\\theta) \\right]\\\\\n",
    "\\textrm{with } y_n(s,a) = \\mathbb{E}_{s' \\sim p(\\cdot|s,a)} \\left[r(s,a,s') + \\gamma \\max_{a'} Q(s',a';\\theta_{n})\\right].$$\n",
    "\n",
    "And when we wrap all this together:\n",
    "$$\\nabla_\\theta L_n(\\theta) = \\mathbb{E}_{(s,a) \\sim \\rho(\\cdot)}\\left[ \\left( \\mathbb{E}_{s' \\sim p(\\cdot|s,a)} \\left[r(s,a,s') + \\gamma \\max_{a'} Q(s',a';\\theta_{n})\\right] - Q(s,a;\\theta) \\right) \\nabla_\\theta Q(s,a;\\theta) \\right]$$\n",
    "\n",
    "$$\\nabla_\\theta L_n(\\theta) = \\mathbb{E}_{\\substack{(s,a) \\sim \\rho(\\cdot)\\\\ s' \\sim p(\\cdot|s,a)}}\\left[ \\left( r(s,a,s') + \\gamma \\max_{a'} Q(s',a';\\theta_{n}) - Q(s,a;\\theta) \\right) \\nabla_\\theta Q(s,a;\\theta) \\right]$$\n",
    "\n",
    "We can build a Monte Carlo estimate of this gradient, given a mini-batch of independently and identically drawn samples $\\left\\{\\left(s_i,a_i,r_i,s'_i\\right)\\right\\}_{i\\in [1,B]}$, with $(s,a) \\sim \\rho(\\cdot)$ and $s' \\sim p(\\cdot | s,a)$:\n",
    "$$\\nabla_\\theta L_n(\\theta) \\approx d_n(\\theta) = \\sum_{i=1}^B \\left[ \\left( r_i + \\gamma \\max_{a'} Q(s_i',a';\\theta_{n}) - Q(s_i,a_i;\\theta) \\right) \\nabla_\\theta Q(s_i,a_i;\\theta) \\right].$$ (on a échantillonné la variable aléatoire au-dessus)\n",
    "\n",
    "The stochastic gradient descent procedure builds a sequence of parameter values $\\theta_k$ such that:\n",
    "$$\\theta_{k+1} \\leftarrow \\theta_{k} - \\alpha d_n(\\theta_{k})$$\n",
    "\n",
    "By repeating such gradient steps, one progressively minimizes $L_n(\\theta)$ and finds $\\theta_{n+1}$.\n",
    "\n",
    "</div>\n",
    "</div>"
   ]
  },
  {
   "cell_type": "markdown",
   "metadata": {},
   "source": [
    "**Important remark:**  \n",
    "\n",
    "In the update above, if the mini-batch contains a single element, the 1-sample update is precisely that of Q-learning! Then, in Q-learning, the new loss $L_{n+1}$ is defined and the process is repeated. Consequently, there is a new loss function at each time step.\n",
    "\n",
    "<div class=\"alert alert-warning\">\n",
    "\n",
    "**Exercise:** can you spot the (subtle but essential) difference with Q-learning?\n",
    "</div>"
   ]
  },
  {
   "cell_type": "markdown",
   "metadata": {},
   "source": [
    "<div class=\"alert alert-danger\">\n",
    "    <a href=\"#DifferenceQL\" data-toggle=\"collapse\"><b>Answers:</b></a><br>\n",
    "<div id=\"DifferenceQL\" class=\"collapse\">\n",
    "\n",
    "Recall Q-learning. The update was indeed the same, except that at any time step the mini-batch's single element was not sampled independently from the previous minibatch! Indeed, $s'$ from the previous time step becomes $s$ for the current time step. So the successive mini-batches' elements are not drawn iid.\n",
    "\n",
    "That's a key difference that questions the foundation of Q-learning in itself.\n",
    "</div>\n",
    "</div>"
   ]
  },
  {
   "cell_type": "markdown",
   "metadata": {},
   "source": [
    "# <a id=sec3></a>Experience Replay\n",
    "\n",
    "To recover the independence assumption between samples, we can introduce the mechanism of [*Experience Replay*](http://www.incompleteideas.net/lin-92.pdf) by storing past samples into a *Replay Memory*. When samples a required for a mini-batch gradient update, the samples are collected uniformly from the replay memory, thus mimicking an (almost) independent draw according to $\\rho(\\cdot)$."
   ]
  },
  {
   "cell_type": "markdown",
   "metadata": {},
   "source": [
    "<div class=\"alert alert-warning\">\n",
    "    \n",
    "**Exercise:**  \n",
    "Design a class for the replay memory of the cart-pole example(s). Limit the size of this memory (via a FIFO mechanism) to $10^6$ samples (adapt this number to your computer's RAM). Test it by running a random policy for $2\\cdot 10^6$ time steps.\n",
    "</div>"
   ]
  },
  {
   "cell_type": "code",
   "execution_count": 6,
   "metadata": {},
   "outputs": [],
   "source": [
    "import numpy as np\n",
    "\n",
    "class Replay_buffer:\n",
    "    def __init__(self):\n",
    "        self.maxsize=1000000\n",
    "        self.mem = []\n",
    "    \n",
    "    def put(self,s,a):\n",
    "        if len(self.mem)==self.maxsize:\n",
    "            self.mem.pop(0)\n",
    "        self.mem.append((s,a))\n",
    "        \n",
    "    def sample(self,n):\n",
    "        idx = np.random.randint(self.maxsize, size=n)\n",
    "        return self.mem[idx]\n",
    "    "
   ]
  },
  {
   "cell_type": "code",
   "execution_count": 6,
   "metadata": {},
   "outputs": [
    {
     "name": "stderr",
     "output_type": "stream",
     "text": [
      "100%|██████████| 2000000/2000000 [00:12<00:00, 154305.29it/s]\n"
     ]
    },
    {
     "name": "stdout",
     "output_type": "stream",
     "text": [
      "1000000\n"
     ]
    },
    {
     "name": "stderr",
     "output_type": "stream",
     "text": [
      "100%|██████████| 10000/10000 [00:00<00:00, 17199.32it/s]"
     ]
    },
    {
     "name": "stdout",
     "output_type": "stream",
     "text": [
      "[(array([ 0.03915695, -0.1898102 , -0.04832508,  0.28102965]), 0, 1.0, array([ 0.03536074, -0.38421071, -0.04270449,  0.55808795]), False), (array([ 0.04042309, -0.16309264, -0.02422604,  0.28908397]), 0, 1.0, array([ 0.03716123, -0.35786091, -0.01844436,  0.57402888]), False)]\n"
     ]
    },
    {
     "name": "stderr",
     "output_type": "stream",
     "text": [
      "\n"
     ]
    }
   ],
   "source": [
    "# %load solutions/RL5_exercise1.py\n",
    "### WRITE YOUR CODE HERE\n",
    "# If you get stuck, uncomment the line above to load a correction in this cell (then you can execute this code).\n",
    "\n",
    "# Replay buffer class\n",
    "import random\n",
    "\n",
    "class ReplayBuffer:\n",
    "    def __init__(self, capacity):\n",
    "        self.capacity = capacity # capacity of the buffer\n",
    "        self.data = []\n",
    "        self.index = 0 # index of the next cell to be filled\n",
    "\n",
    "    def append(self, s, a, r, s_, d):\n",
    "        if len(self.data) < self.capacity:\n",
    "            self.data.append(None)\n",
    "        self.data[self.index] = (s, a, r, s_, d)\n",
    "        self.index = (self.index + 1) % self.capacity\n",
    "\n",
    "    def sample(self, batch_size):\n",
    "        return random.sample(self.data, batch_size)\n",
    "\n",
    "    def __len__(self):\n",
    "        return len(self.data)\n",
    "\n",
    "# Testing insertion in the ReplayBuffer class\n",
    "from tqdm import trange\n",
    "replay_buffer_size = int(1e6)\n",
    "nb_samples = int(2e6)\n",
    "\n",
    "memory = ReplayBuffer(replay_buffer_size)\n",
    "state = cartpole.reset()\n",
    "for _ in trange(nb_samples):\n",
    "    action = cartpole.action_space.sample()\n",
    "    next_state, reward, done, _ = cartpole.step(action)\n",
    "    memory.append(state, action, reward, next_state, done)\n",
    "    if done:\n",
    "        state = cartpole.reset()\n",
    "    else:\n",
    "        state = next_state\n",
    "\n",
    "print(len(memory))\n",
    "\n",
    "# Testing sampling in the ReplayBuffer class\n",
    "nb_batches = int(1e4)\n",
    "batch_size = 50\n",
    "\n",
    "for _ in trange(nb_batches):\n",
    "    batch = memory.sample(batch_size)\n",
    "\n",
    "print(memory.sample(2))"
   ]
  },
  {
   "cell_type": "markdown",
   "metadata": {},
   "source": [
    "<div class=\"alert alert-warning\">\n",
    "    \n",
    "**Know your data structures!**\n",
    "\n",
    "Taking the time to think about what makes a good replay buffer may save you hours of puzzled head-banging. It is important to know what you expect from your replay buffer to choose the right data structure.\n",
    "\n",
    "Common mistake: we need a fixed sized memory, that works like a FIFO structure, so let's pick a deque. That sounds fair, deques (in Python) have a fixed maximum size and constant time insertion at the beginning and the end. BUT they also have $O(n)$ access time which means that for large replay buffers, sampling a minibatch may take forever.\n",
    "\n",
    "Here, what we really need is a fixed-size FIFO, with $O(1)$ insertion at the end and $O(1)$ access.\n",
    "\n",
    "This should motivate the choices made in the replay buffer class above.\n",
    "</div>"
   ]
  },
  {
   "cell_type": "markdown",
   "metadata": {},
   "source": [
    "# <a id=sec4></a>A deep Q-network\n",
    "\n",
    "The term Deep Q-Network was coined by the (now historical) paper **[Playing Atari with Deep Reinforcement Learning](https://arxiv.org/abs/1312.5602)** by Mnih et al. (2013) that put forward the main ideas we develop here. All those were later popularized by DeepMind's paper in Nature **[Human-level control through deep reinforcement learning](https://deepmind.com/research/publications/human-level-control-through-deep-reinforcement-learning)** by Mnih et al. (2015).\n",
    "\n",
    "Let's design a (deep) neural network that will serve as a function approximator for $Q(s,a;\\theta)$. \n",
    "\n",
    "<img src=\"img/dqlas.png\" height=\"15%\" width=\"15%\"></img>\n",
    "\n",
    "Note that since we're going to have to compute $\\max_a Q(s,a)$ it is preferable to avoid running as many passes through the network as there are actions. Therefore, instead of the network structure above, we will prefer to use the one below.\n",
    "\n",
    "<img src=\"img/dqls.png\" height=\"30%\" width=\"30%\"></img>"
   ]
  },
  {
   "cell_type": "markdown",
   "metadata": {},
   "source": [
    "<div class=\"alert alert-warning\">\n",
    "    \n",
    "**Exercise:**  \n",
    "Declare a neural network for our $Q$ function. For the CartPole task, you can use a simple network with 2 hidden layers and 16 neurons on each layer. For the SwingUp task, go up to 50 neurons per layer. For Pong and the other environments... well wait a minute, we'll get to it later.\n",
    "</div>"
   ]
  },
  {
   "cell_type": "code",
   "execution_count": null,
   "metadata": {},
   "outputs": [],
   "source": [
    "import torch \n",
    "import torch.nn as nn\n",
    "\n",
    "state_dim = cartpole.observation_space.n\n",
    "action_dim = cartpole.action_space.n\n",
    "neurons = 16 #50\n",
    "DQN = nn.Sequential(\n",
    "    nn.Linear(state_dim,neurons),\n",
    "    nn.ReLU(),\n",
    "    nn.Linear(neurons,neurons),\n",
    "    nn.ReLU(),\n",
    "    nn.Linear(neurons,action_dim)\n",
    ")"
   ]
  },
  {
   "cell_type": "code",
   "execution_count": 9,
   "metadata": {},
   "outputs": [],
   "source": [
    "# %load solutions/RL5_exercise2.py\n",
    "### WRITE YOUR CODE HERE\n",
    "# If you get stuck, uncomment the line above to load a correction in this cell (then you can execute this code).\n",
    "\n",
    "import torch\n",
    "import torch.nn as nn\n",
    "\n",
    "device = torch.device(\"cuda\" if torch.cuda.is_available() else \"cpu\")\n",
    "\n",
    "state_dim = cartpole.observation_space.shape[0]\n",
    "n_action = cartpole.action_space.n \n",
    "nb_neurons=24\n",
    "\n",
    "DQN = torch.nn.Sequential(nn.Linear(state_dim, nb_neurons),\n",
    "                          nn.ReLU(),\n",
    "                          nn.Linear(nb_neurons, nb_neurons),\n",
    "                          nn.ReLU(), \n",
    "                          nn.Linear(nb_neurons, n_action)).to(device)"
   ]
  },
  {
   "cell_type": "markdown",
   "metadata": {},
   "source": [
    "We're almost there. Now you can implement the algorithm that:\n",
    "- takes $\\epsilon$-greedy actions with respect to $Q$\n",
    "- stores samples in the replay buffer\n",
    "- at each interaction step with the environment, draws a mini-batch, computes the target values for each $(s,a)$ and takes a gradient step (loss.backward and loss.step).\n",
    "- repeats"
   ]
  },
  {
   "cell_type": "markdown",
   "metadata": {},
   "source": [
    "<div class=\"alert alert-warning\">\n",
    "    \n",
    "**Exercise:**  \n",
    "Write this algorithm's pseudo-code, then proceed with your implementation, using the network and replay buffer you defined in the previous cells.\n",
    "</div>\n",
    "\n",
    "You can take inspiration from the algorithm on page 5 of **[Playing Atari with Deep Reinforcement Learning](https://arxiv.org/abs/1312.5602)**."
   ]
  },
  {
   "cell_type": "markdown",
   "metadata": {},
   "source": [
    "<div class=\"alert alert-danger\">\n",
    "    <a href=\"#DQNpseudocode\" data-toggle=\"collapse\"><b>Answer:</b></a><br>\n",
    "<div id=\"DQNpseudocode\" class=\"collapse\">\n",
    "\n",
    "         state = init()\n",
    "         loop:\n",
    "            action = greedy_action(DQN) or random_action()\n",
    "            new_state, reward = step(state, action)\n",
    "            replay_memory.add(state, action, reward, new_state)\n",
    "            minibatch = replay_memory.sample(minibatch_size)\n",
    "            X_train = Y_train = []\n",
    "            for (s,a,r,s') in minibatch:\n",
    "                Q  = DQN.predict(s)\n",
    "                Q' = DQN.predict(s')\n",
    "                if non-terminal(s'): \n",
    "                    update = r + gamma * max(Q')    \n",
    "                else:  \n",
    "                    update = r\n",
    "                Q[a] = update\n",
    "                X_train.add(s)\n",
    "                Y_train.add(Q)\n",
    "            DQN.train_one_step(X_train,Y_train)\n",
    "            state = new_state\n",
    "</div>\n",
    "</div>"
   ]
  },
  {
   "cell_type": "markdown",
   "metadata": {},
   "source": [
    "Now we can proceed with the implementation. This series of exercises break it down into small steps.\n",
    "\n",
    "<div class=\"alert alert-warning\">\n",
    "    \n",
    "**Exercise:**  \n",
    "It will actually be useful to have separate torch.Tensor for the each element type in the sampled minibatch.  \n",
    "That is one Tensor for a minibatch of states, another for actions, etc.\n",
    "Let's redefine the sample function of our replay buffer class to that end.\n",
    "</div>"
   ]
  },
  {
   "cell_type": "code",
   "execution_count": 10,
   "metadata": {},
   "outputs": [],
   "source": [
    "class ReplayBuffer:\n",
    "    def __init__(self, capacity):\n",
    "        self.capacity = capacity # capacity of the buffer\n",
    "        self.data = []\n",
    "        self.index = 0 # index of the next cell to be filled\n",
    "\n",
    "    def append(self, s, a, r, s_, d):\n",
    "        if len(self.data) < self.capacity:\n",
    "            self.data.append(None)\n",
    "        self.data[self.index] = (s, a, r, s_, d)\n",
    "        self.index = (self.index + 1) % self.capacity\n",
    "\n",
    "    def sample(self, batch_size):\n",
    "        batch_data = random.sample(self.data, batch_size)\n",
    "        states = torch.Tensor(batch[:][0])\n",
    "        actions = torch.Tensor(batch[:][1])\n",
    "        rewards = torch.Tensor(batch[:][2])\n",
    "        states2 = torch.Tensor(batch[:][3])\n",
    "        dones = torch.Tensor(batch[:][4])\n",
    "        return states, actions, rewards, states2, done\n",
    "\n",
    "    def __len__(self):\n",
    "        return len(self.data)"
   ]
  },
  {
   "cell_type": "code",
   "execution_count": 12,
   "metadata": {},
   "outputs": [],
   "source": [
    "# %load solutions/RL5_exercise3.py\n",
    "### WRITE YOUR CODE HERE\n",
    "# If you get stuck, uncomment the line above to load a correction in this cell (then you can execute this code).\n",
    "\n",
    "import random\n",
    "import torch\n",
    "\n",
    "class ReplayBuffer:\n",
    "    def __init__(self, capacity):\n",
    "        self.capacity = capacity # capacity of the buffer\n",
    "        self.data = []\n",
    "        self.index = 0 # index of the next cell to be filled\n",
    "\n",
    "    def append(self, s, a, r, s_, d):\n",
    "        if len(self.data) < self.capacity:\n",
    "            self.data.append(None)\n",
    "        self.data[self.index] = (s, a, r, s_, d)\n",
    "        self.index = (self.index + 1) % self.capacity\n",
    "\n",
    "    def sample(self, batch_size):\n",
    "        batch = random.sample(self.data, batch_size)\n",
    "        return list(map(lambda x:torch.Tensor(x).to(device), list(zip(*batch))))\n",
    "\n",
    "    def __len__(self):\n",
    "        return len(self.data)"
   ]
  },
  {
   "cell_type": "markdown",
   "metadata": {},
   "source": [
    "<div class=\"alert alert-warning\">\n",
    "    \n",
    "**Exercise:**  \n",
    "Define a utility function that computes the greedy action from a DQN and a batch of states.\n",
    "</div>"
   ]
  },
  {
   "cell_type": "code",
   "execution_count": 16,
   "metadata": {},
   "outputs": [],
   "source": [
    "def epsilon_greedy(Qnet, state): #takes one state as input\n",
    "    state_batch = torch.Tensor(state_batch)\n",
    "    Q = Qnet(state_batch.unsqueez(0).to(device)) # forward passing state batch to Q \n",
    "    return torch.argmax(Q).item()"
   ]
  },
  {
   "cell_type": "code",
   "execution_count": 27,
   "metadata": {},
   "outputs": [],
   "source": [
    "# %load solutions/RL5_exercise4.py\n",
    "### WRITE YOUR CODE HERE\n",
    "# If you get stuck, uncomment the line above to load a correction in this cell (then you can execute this code).\n",
    "\n",
    "import torch\n",
    "\n",
    "def greedy_action(network, state):\n",
    "    #device = \"cuda\" if next(network.parameters()).is_cuda else \"cpu\"\n",
    "    with torch.no_grad():\n",
    "        Q = network(torch.Tensor(state).unsqueeze(0).to(device))\n",
    "        return torch.argmax(Q).item()"
   ]
  },
  {
   "cell_type": "markdown",
   "metadata": {},
   "source": [
    "<div class=\"alert alert-warning\">\n",
    "    \n",
    "**Exercise:**  \n",
    "Write a class that keeps a replay buffer as internal attribute and implements the pseudo-code you wrote earlier.  \n",
    "Here are a few tips:\n",
    "- To ensure exploration, take a constant $\\epsilon_{max}$ value during $\\tau_{delay}$ time steps, then substract $\\epsilon_{step}$ from $\\epsilon$ at every time step until you reach time $\\tau_{period}$.\n",
    "- A common optimizer (instead of plain SGD) is RMSprop.\n",
    "- Assume the interaction with the environment will be episodic. After each training episode store the episode's cumulated return for monitoring.\n",
    "\n",
    "Write your class but don't run this code just yet!\n",
    "</div>"
   ]
  },
  {
   "cell_type": "code",
   "execution_count": 28,
   "metadata": {},
   "outputs": [],
   "source": [
    "# %load solutions/RL5_exercise5.py\n",
    "### WRITE YOUR CODE HERE\n",
    "# If you get stuck, uncomment the line above to load a correction in this cell (then you can execute this code).\n",
    "\n",
    "import numpy as np\n",
    "import torch\n",
    "import torch.nn as nn\n",
    "\n",
    "class DQN_agent:\n",
    "    def __init__(self, config, model):\n",
    "        self.gamma = config['gamma']\n",
    "        self.batch_size = config['batch_size']\n",
    "        self.nb_actions = config['nb_actions']\n",
    "        self.memory = ReplayBuffer(config['buffer_size'])\n",
    "        self.epsilon_max = config['epsilon_max']\n",
    "        self.epsilon_min = config['epsilon_min']\n",
    "        self.epsilon_stop = config['epsilon_decay_period']\n",
    "        self.epsilon_delay = config['epsilon_delay_decay']\n",
    "        self.epsilon_step = (self.epsilon_max-self.epsilon_min)/self.epsilon_stop\n",
    "        self.total_steps = 0\n",
    "        self.model = model \n",
    "        self.criterion = torch.nn.MSELoss()\n",
    "        self.optimizer = torch.optim.RMSprop(self.model.parameters(), lr=config['learning_rate'])\n",
    "    \n",
    "    def gradient_step(self):\n",
    "        if len(self.memory) > self.batch_size:\n",
    "            X, A, R, Y, D = self.memory.sample(self.batch_size)\n",
    "            QYmax = self.model(Y).max(1)[0].detach()\n",
    "            update = torch.addcmul(R, self.gamma, 1-D, QYmax) \n",
    "            #element-wise multiplication of :attr:`tensor1` by :attr:`tensor2`, \n",
    "            # multiply the result by the scalar :attr:`value` and add it to :attr:`input\n",
    "            QXA = self.model(X).gather(1, A.to(torch.long).unsqueeze(1))\n",
    "            loss = self.criterion(QXA, update.unsqueeze(1))\n",
    "            self.optimizer.zero_grad()\n",
    "            loss.backward()\n",
    "            self.optimizer.step() \n",
    "    \n",
    "    def train(self, env, max_episode):\n",
    "        episode_return = []\n",
    "        episode = 0\n",
    "        episode_cum_reward = 0\n",
    "        state = env.reset()\n",
    "        epsilon = self.epsilon_max\n",
    "        step = 0\n",
    "\n",
    "        while episode < max_episode:\n",
    "            # update epsilon\n",
    "            if step > self.epsilon_delay:\n",
    "                epsilon = max(self.epsilon_min, epsilon-self.epsilon_step)\n",
    "\n",
    "            # select epsilon-greedy action\n",
    "            if np.random.rand() < epsilon:\n",
    "                action = np.random.randint(self.nb_actions)\n",
    "            else:\n",
    "                action = greedy_action(self.model, state)\n",
    "\n",
    "            # step\n",
    "            next_state, reward, done, _ = env.step(action)\n",
    "            self.memory.append(state, action, reward, next_state, done)\n",
    "            episode_cum_reward += reward\n",
    "\n",
    "            # train\n",
    "            self.gradient_step()\n",
    "\n",
    "            # next transition\n",
    "            step += 1\n",
    "            if done:\n",
    "                episode += 1\n",
    "                print(\"Episode \", '{:3d}'.format(episode), \n",
    "                      \", epsilon \", '{:6.2f}'.format(epsilon), \n",
    "                      \", batch size \", '{:5d}'.format(len(self.memory)), \n",
    "                      \", episode return \", '{:4.1f}'.format(episode_cum_reward),\n",
    "                      sep='')\n",
    "                state = env.reset()\n",
    "                episode_return.append(episode_cum_reward)\n",
    "                episode_cum_reward = 0\n",
    "            else:\n",
    "                state = next_state\n",
    "\n",
    "        return episode_return"
   ]
  },
  {
   "cell_type": "markdown",
   "metadata": {},
   "source": [
    "<div class=\"alert alert-warning\">\n",
    "    \n",
    "**Exercise:**  \n",
    "Train for 200 episodes on CartPole, with a learning rate of $0.001$, abatch size of $20$, $\\gamma=0.95$ and a replay buffer of maximum $1000000$ samples. Take $\\epsilon_{max}=1$, $\\epsilon_{min=0.01}$, $\\tau_{delay}=20$ and $\\tau_{period}=1000$.\n",
    "</div>"
   ]
  },
  {
   "cell_type": "code",
   "execution_count": 29,
   "metadata": {},
   "outputs": [
    {
     "name": "stdout",
     "output_type": "stream",
     "text": [
      "Episode   1, epsilon   0.97, batch size    56, episode return 56.0\n",
      "Episode   2, epsilon   0.90, batch size   120, episode return 64.0\n",
      "Episode   3, epsilon   0.88, batch size   141, episode return 21.0\n",
      "Episode   4, epsilon   0.86, batch size   158, episode return 17.0\n",
      "Episode   5, epsilon   0.85, batch size   172, episode return 14.0\n",
      "Episode   6, epsilon   0.81, batch size   208, episode return 36.0\n",
      "Episode   7, epsilon   0.80, batch size   225, episode return 17.0\n",
      "Episode   8, epsilon   0.78, batch size   244, episode return 19.0\n",
      "Episode   9, epsilon   0.77, batch size   258, episode return 14.0\n",
      "Episode  10, epsilon   0.75, batch size   271, episode return 13.0\n",
      "Episode  11, epsilon   0.74, batch size   280, episode return  9.0\n",
      "Episode  12, epsilon   0.72, batch size   303, episode return 23.0\n",
      "Episode  13, epsilon   0.70, batch size   321, episode return 18.0\n",
      "Episode  14, epsilon   0.69, batch size   330, episode return  9.0\n",
      "Episode  15, epsilon   0.68, batch size   344, episode return 14.0\n",
      "Episode  16, epsilon   0.67, batch size   357, episode return 13.0\n",
      "Episode  17, epsilon   0.66, batch size   368, episode return 11.0\n",
      "Episode  18, epsilon   0.64, batch size   380, episode return 12.0\n",
      "Episode  19, epsilon   0.63, batch size   395, episode return 15.0\n",
      "Episode  20, epsilon   0.62, batch size   406, episode return 11.0\n",
      "Episode  21, epsilon   0.61, batch size   419, episode return 13.0\n",
      "Episode  22, epsilon   0.59, batch size   435, episode return 16.0\n",
      "Episode  23, epsilon   0.58, batch size   447, episode return 12.0\n",
      "Episode  24, epsilon   0.56, batch size   465, episode return 18.0\n",
      "Episode  25, epsilon   0.55, batch size   475, episode return 10.0\n",
      "Episode  26, epsilon   0.54, batch size   488, episode return 13.0\n",
      "Episode  27, epsilon   0.52, batch size   501, episode return 13.0\n",
      "Episode  28, epsilon   0.51, batch size   516, episode return 15.0\n",
      "Episode  29, epsilon   0.50, batch size   525, episode return  9.0\n",
      "Episode  30, epsilon   0.49, batch size   537, episode return 12.0\n",
      "Episode  31, epsilon   0.48, batch size   548, episode return 11.0\n",
      "Episode  32, epsilon   0.47, batch size   557, episode return  9.0\n",
      "Episode  33, epsilon   0.46, batch size   571, episode return 14.0\n",
      "Episode  34, epsilon   0.45, batch size   581, episode return 10.0\n",
      "Episode  35, epsilon   0.44, batch size   590, episode return  9.0\n",
      "Episode  36, epsilon   0.43, batch size   600, episode return 10.0\n",
      "Episode  37, epsilon   0.42, batch size   611, episode return 11.0\n",
      "Episode  38, epsilon   0.40, batch size   627, episode return 16.0\n",
      "Episode  39, epsilon   0.39, batch size   639, episode return 12.0\n",
      "Episode  40, epsilon   0.38, batch size   648, episode return  9.0\n",
      "Episode  41, epsilon   0.36, batch size   663, episode return 15.0\n",
      "Episode  42, epsilon   0.35, batch size   676, episode return 13.0\n",
      "Episode  43, epsilon   0.34, batch size   686, episode return 10.0\n",
      "Episode  44, epsilon   0.33, batch size   698, episode return 12.0\n",
      "Episode  45, epsilon   0.32, batch size   708, episode return 10.0\n",
      "Episode  46, epsilon   0.31, batch size   717, episode return  9.0\n",
      "Episode  47, epsilon   0.30, batch size   727, episode return 10.0\n",
      "Episode  48, epsilon   0.29, batch size   736, episode return  9.0\n",
      "Episode  49, epsilon   0.28, batch size   750, episode return 14.0\n",
      "Episode  50, epsilon   0.27, batch size   759, episode return  9.0\n",
      "Episode  51, epsilon   0.26, batch size   769, episode return 10.0\n",
      "Episode  52, epsilon   0.25, batch size   781, episode return 12.0\n",
      "Episode  53, epsilon   0.23, batch size   794, episode return 13.0\n",
      "Episode  54, epsilon   0.23, batch size   803, episode return  9.0\n",
      "Episode  55, epsilon   0.22, batch size   812, episode return  9.0\n",
      "Episode  56, epsilon   0.21, batch size   820, episode return  8.0\n",
      "Episode  57, epsilon   0.20, batch size   830, episode return 10.0\n",
      "Episode  58, epsilon   0.19, batch size   840, episode return 10.0\n",
      "Episode  59, epsilon   0.18, batch size   853, episode return 13.0\n",
      "Episode  60, epsilon   0.17, batch size   863, episode return 10.0\n",
      "Episode  61, epsilon   0.16, batch size   873, episode return 10.0\n",
      "Episode  62, epsilon   0.15, batch size   883, episode return 10.0\n",
      "Episode  63, epsilon   0.13, batch size   895, episode return 12.0\n",
      "Episode  64, epsilon   0.13, batch size   904, episode return  9.0\n",
      "Episode  65, epsilon   0.12, batch size   912, episode return  8.0\n",
      "Episode  66, epsilon   0.11, batch size   922, episode return 10.0\n",
      "Episode  67, epsilon   0.10, batch size   930, episode return  8.0\n",
      "Episode  68, epsilon   0.09, batch size   940, episode return 10.0\n",
      "Episode  69, epsilon   0.08, batch size   950, episode return 10.0\n",
      "Episode  70, epsilon   0.07, batch size   961, episode return 11.0\n",
      "Episode  71, epsilon   0.06, batch size   971, episode return 10.0\n",
      "Episode  72, epsilon   0.05, batch size   980, episode return  9.0\n",
      "Episode  73, epsilon   0.04, batch size   989, episode return  9.0\n",
      "Episode  74, epsilon   0.03, batch size   999, episode return 10.0\n",
      "Episode  75, epsilon   0.02, batch size  1008, episode return  9.0\n",
      "Episode  76, epsilon   0.01, batch size  1018, episode return 10.0\n",
      "Episode  77, epsilon   0.01, batch size  1027, episode return  9.0\n",
      "Episode  78, epsilon   0.01, batch size  1045, episode return 18.0\n",
      "Episode  79, epsilon   0.01, batch size  1053, episode return  8.0\n",
      "Episode  80, epsilon   0.01, batch size  1063, episode return 10.0\n",
      "Episode  81, epsilon   0.01, batch size  1072, episode return  9.0\n",
      "Episode  82, epsilon   0.01, batch size  1081, episode return  9.0\n",
      "Episode  83, epsilon   0.01, batch size  1089, episode return  8.0\n",
      "Episode  84, epsilon   0.01, batch size  1100, episode return 11.0\n",
      "Episode  85, epsilon   0.01, batch size  1115, episode return 15.0\n",
      "Episode  86, epsilon   0.01, batch size  1136, episode return 21.0\n",
      "Episode  87, epsilon   0.01, batch size  1155, episode return 19.0\n",
      "Episode  88, epsilon   0.01, batch size  1170, episode return 15.0\n",
      "Episode  89, epsilon   0.01, batch size  1180, episode return 10.0\n",
      "Episode  90, epsilon   0.01, batch size  1190, episode return 10.0\n",
      "Episode  91, epsilon   0.01, batch size  1201, episode return 11.0\n",
      "Episode  92, epsilon   0.01, batch size  1210, episode return  9.0\n",
      "Episode  93, epsilon   0.01, batch size  1242, episode return 32.0\n",
      "Episode  94, epsilon   0.01, batch size  1259, episode return 17.0\n",
      "Episode  95, epsilon   0.01, batch size  1276, episode return 17.0\n",
      "Episode  96, epsilon   0.01, batch size  1297, episode return 21.0\n",
      "Episode  97, epsilon   0.01, batch size  1306, episode return  9.0\n",
      "Episode  98, epsilon   0.01, batch size  1319, episode return 13.0\n",
      "Episode  99, epsilon   0.01, batch size  1374, episode return 55.0\n",
      "Episode 100, epsilon   0.01, batch size  1407, episode return 33.0\n",
      "Episode 101, epsilon   0.01, batch size  1438, episode return 31.0\n",
      "Episode 102, epsilon   0.01, batch size  1456, episode return 18.0\n",
      "Episode 103, epsilon   0.01, batch size  1478, episode return 22.0\n",
      "Episode 104, epsilon   0.01, batch size  1493, episode return 15.0\n",
      "Episode 105, epsilon   0.01, batch size  1511, episode return 18.0\n",
      "Episode 106, epsilon   0.01, batch size  1531, episode return 20.0\n",
      "Episode 107, epsilon   0.01, batch size  1548, episode return 17.0\n",
      "Episode 108, epsilon   0.01, batch size  1571, episode return 23.0\n",
      "Episode 109, epsilon   0.01, batch size  1596, episode return 25.0\n",
      "Episode 110, epsilon   0.01, batch size  1639, episode return 43.0\n",
      "Episode 111, epsilon   0.01, batch size  1699, episode return 60.0\n",
      "Episode 112, epsilon   0.01, batch size  1729, episode return 30.0\n",
      "Episode 113, epsilon   0.01, batch size  1758, episode return 29.0\n",
      "Episode 114, epsilon   0.01, batch size  1790, episode return 32.0\n",
      "Episode 115, epsilon   0.01, batch size  1817, episode return 27.0\n",
      "Episode 116, epsilon   0.01, batch size  1843, episode return 26.0\n",
      "Episode 117, epsilon   0.01, batch size  1872, episode return 29.0\n",
      "Episode 118, epsilon   0.01, batch size  1901, episode return 29.0\n",
      "Episode 119, epsilon   0.01, batch size  1947, episode return 46.0\n",
      "Episode 120, epsilon   0.01, batch size  2004, episode return 57.0\n",
      "Episode 121, epsilon   0.01, batch size  2037, episode return 33.0\n",
      "Episode 122, epsilon   0.01, batch size  2073, episode return 36.0\n",
      "Episode 123, epsilon   0.01, batch size  2129, episode return 56.0\n",
      "Episode 124, epsilon   0.01, batch size  2163, episode return 34.0\n",
      "Episode 125, epsilon   0.01, batch size  2189, episode return 26.0\n",
      "Episode 126, epsilon   0.01, batch size  2214, episode return 25.0\n",
      "Episode 127, epsilon   0.01, batch size  2259, episode return 45.0\n",
      "Episode 128, epsilon   0.01, batch size  2288, episode return 29.0\n",
      "Episode 129, epsilon   0.01, batch size  2350, episode return 62.0\n",
      "Episode 130, epsilon   0.01, batch size  2396, episode return 46.0\n",
      "Episode 131, epsilon   0.01, batch size  2441, episode return 45.0\n",
      "Episode 132, epsilon   0.01, batch size  2481, episode return 40.0\n",
      "Episode 133, epsilon   0.01, batch size  2530, episode return 49.0\n",
      "Episode 134, epsilon   0.01, batch size  2560, episode return 30.0\n",
      "Episode 135, epsilon   0.01, batch size  2632, episode return 72.0\n",
      "Episode 136, epsilon   0.01, batch size  2686, episode return 54.0\n",
      "Episode 137, epsilon   0.01, batch size  2772, episode return 86.0\n",
      "Episode 138, epsilon   0.01, batch size  2863, episode return 91.0\n",
      "Episode 139, epsilon   0.01, batch size  2902, episode return 39.0\n",
      "Episode 140, epsilon   0.01, batch size  2999, episode return 97.0\n",
      "Episode 141, epsilon   0.01, batch size  3074, episode return 75.0\n",
      "Episode 142, epsilon   0.01, batch size  3125, episode return 51.0\n",
      "Episode 143, epsilon   0.01, batch size  3212, episode return 87.0\n",
      "Episode 144, epsilon   0.01, batch size  3261, episode return 49.0\n",
      "Episode 145, epsilon   0.01, batch size  3344, episode return 83.0\n",
      "Episode 146, epsilon   0.01, batch size  3400, episode return 56.0\n",
      "Episode 147, epsilon   0.01, batch size  3499, episode return 99.0\n",
      "Episode 148, epsilon   0.01, batch size  3577, episode return 78.0\n",
      "Episode 149, epsilon   0.01, batch size  3639, episode return 62.0\n",
      "Episode 150, epsilon   0.01, batch size  3711, episode return 72.0\n",
      "Episode 151, epsilon   0.01, batch size  3789, episode return 78.0\n",
      "Episode 152, epsilon   0.01, batch size  3835, episode return 46.0\n",
      "Episode 153, epsilon   0.01, batch size  3936, episode return 101.0\n",
      "Episode 154, epsilon   0.01, batch size  4009, episode return 73.0\n",
      "Episode 155, epsilon   0.01, batch size  4098, episode return 89.0\n",
      "Episode 156, epsilon   0.01, batch size  4153, episode return 55.0\n",
      "Episode 157, epsilon   0.01, batch size  4231, episode return 78.0\n",
      "Episode 158, epsilon   0.01, batch size  4340, episode return 109.0\n",
      "Episode 159, epsilon   0.01, batch size  4429, episode return 89.0\n",
      "Episode 160, epsilon   0.01, batch size  4516, episode return 87.0\n",
      "Episode 161, epsilon   0.01, batch size  4599, episode return 83.0\n",
      "Episode 162, epsilon   0.01, batch size  4713, episode return 114.0\n",
      "Episode 163, epsilon   0.01, batch size  4811, episode return 98.0\n",
      "Episode 164, epsilon   0.01, batch size  4963, episode return 152.0\n",
      "Episode 165, epsilon   0.01, batch size  5044, episode return 81.0\n",
      "Episode 166, epsilon   0.01, batch size  5143, episode return 99.0\n",
      "Episode 167, epsilon   0.01, batch size  5251, episode return 108.0\n",
      "Episode 168, epsilon   0.01, batch size  5382, episode return 131.0\n",
      "Episode 169, epsilon   0.01, batch size  5519, episode return 137.0\n",
      "Episode 170, epsilon   0.01, batch size  5627, episode return 108.0\n",
      "Episode 171, epsilon   0.01, batch size  5725, episode return 98.0\n",
      "Episode 172, epsilon   0.01, batch size  5838, episode return 113.0\n",
      "Episode 173, epsilon   0.01, batch size  5952, episode return 114.0\n",
      "Episode 174, epsilon   0.01, batch size  6083, episode return 131.0\n",
      "Episode 175, epsilon   0.01, batch size  6234, episode return 151.0\n",
      "Episode 176, epsilon   0.01, batch size  6383, episode return 149.0\n",
      "Episode 177, epsilon   0.01, batch size  6506, episode return 123.0\n",
      "Episode 178, epsilon   0.01, batch size  6651, episode return 145.0\n",
      "Episode 179, epsilon   0.01, batch size  6787, episode return 136.0\n",
      "Episode 180, epsilon   0.01, batch size  6924, episode return 137.0\n",
      "Episode 181, epsilon   0.01, batch size  7040, episode return 116.0\n",
      "Episode 182, epsilon   0.01, batch size  7187, episode return 147.0\n",
      "Episode 183, epsilon   0.01, batch size  7342, episode return 155.0\n",
      "Episode 184, epsilon   0.01, batch size  7532, episode return 190.0\n",
      "Episode 185, epsilon   0.01, batch size  7706, episode return 174.0\n",
      "Episode 186, epsilon   0.01, batch size  7822, episode return 116.0\n",
      "Episode 187, epsilon   0.01, batch size  7959, episode return 137.0\n",
      "Episode 188, epsilon   0.01, batch size  8142, episode return 183.0\n",
      "Episode 189, epsilon   0.01, batch size  8283, episode return 141.0\n",
      "Episode 190, epsilon   0.01, batch size  8454, episode return 171.0\n",
      "Episode 191, epsilon   0.01, batch size  8601, episode return 147.0\n",
      "Episode 192, epsilon   0.01, batch size  8746, episode return 145.0\n",
      "Episode 193, epsilon   0.01, batch size  8944, episode return 198.0\n",
      "Episode 194, epsilon   0.01, batch size  9105, episode return 161.0\n",
      "Episode 195, epsilon   0.01, batch size  9244, episode return 139.0\n",
      "Episode 196, epsilon   0.01, batch size  9417, episode return 173.0\n",
      "Episode 197, epsilon   0.01, batch size  9626, episode return 209.0\n",
      "Episode 198, epsilon   0.01, batch size  9788, episode return 162.0\n",
      "Episode 199, epsilon   0.01, batch size  9991, episode return 203.0\n",
      "Episode 200, epsilon   0.01, batch size 10146, episode return 155.0\n"
     ]
    },
    {
     "data": {
      "text/plain": [
       "[56.0,\n",
       " 64.0,\n",
       " 21.0,\n",
       " 17.0,\n",
       " 14.0,\n",
       " 36.0,\n",
       " 17.0,\n",
       " 19.0,\n",
       " 14.0,\n",
       " 13.0,\n",
       " 9.0,\n",
       " 23.0,\n",
       " 18.0,\n",
       " 9.0,\n",
       " 14.0,\n",
       " 13.0,\n",
       " 11.0,\n",
       " 12.0,\n",
       " 15.0,\n",
       " 11.0,\n",
       " 13.0,\n",
       " 16.0,\n",
       " 12.0,\n",
       " 18.0,\n",
       " 10.0,\n",
       " 13.0,\n",
       " 13.0,\n",
       " 15.0,\n",
       " 9.0,\n",
       " 12.0,\n",
       " 11.0,\n",
       " 9.0,\n",
       " 14.0,\n",
       " 10.0,\n",
       " 9.0,\n",
       " 10.0,\n",
       " 11.0,\n",
       " 16.0,\n",
       " 12.0,\n",
       " 9.0,\n",
       " 15.0,\n",
       " 13.0,\n",
       " 10.0,\n",
       " 12.0,\n",
       " 10.0,\n",
       " 9.0,\n",
       " 10.0,\n",
       " 9.0,\n",
       " 14.0,\n",
       " 9.0,\n",
       " 10.0,\n",
       " 12.0,\n",
       " 13.0,\n",
       " 9.0,\n",
       " 9.0,\n",
       " 8.0,\n",
       " 10.0,\n",
       " 10.0,\n",
       " 13.0,\n",
       " 10.0,\n",
       " 10.0,\n",
       " 10.0,\n",
       " 12.0,\n",
       " 9.0,\n",
       " 8.0,\n",
       " 10.0,\n",
       " 8.0,\n",
       " 10.0,\n",
       " 10.0,\n",
       " 11.0,\n",
       " 10.0,\n",
       " 9.0,\n",
       " 9.0,\n",
       " 10.0,\n",
       " 9.0,\n",
       " 10.0,\n",
       " 9.0,\n",
       " 18.0,\n",
       " 8.0,\n",
       " 10.0,\n",
       " 9.0,\n",
       " 9.0,\n",
       " 8.0,\n",
       " 11.0,\n",
       " 15.0,\n",
       " 21.0,\n",
       " 19.0,\n",
       " 15.0,\n",
       " 10.0,\n",
       " 10.0,\n",
       " 11.0,\n",
       " 9.0,\n",
       " 32.0,\n",
       " 17.0,\n",
       " 17.0,\n",
       " 21.0,\n",
       " 9.0,\n",
       " 13.0,\n",
       " 55.0,\n",
       " 33.0,\n",
       " 31.0,\n",
       " 18.0,\n",
       " 22.0,\n",
       " 15.0,\n",
       " 18.0,\n",
       " 20.0,\n",
       " 17.0,\n",
       " 23.0,\n",
       " 25.0,\n",
       " 43.0,\n",
       " 60.0,\n",
       " 30.0,\n",
       " 29.0,\n",
       " 32.0,\n",
       " 27.0,\n",
       " 26.0,\n",
       " 29.0,\n",
       " 29.0,\n",
       " 46.0,\n",
       " 57.0,\n",
       " 33.0,\n",
       " 36.0,\n",
       " 56.0,\n",
       " 34.0,\n",
       " 26.0,\n",
       " 25.0,\n",
       " 45.0,\n",
       " 29.0,\n",
       " 62.0,\n",
       " 46.0,\n",
       " 45.0,\n",
       " 40.0,\n",
       " 49.0,\n",
       " 30.0,\n",
       " 72.0,\n",
       " 54.0,\n",
       " 86.0,\n",
       " 91.0,\n",
       " 39.0,\n",
       " 97.0,\n",
       " 75.0,\n",
       " 51.0,\n",
       " 87.0,\n",
       " 49.0,\n",
       " 83.0,\n",
       " 56.0,\n",
       " 99.0,\n",
       " 78.0,\n",
       " 62.0,\n",
       " 72.0,\n",
       " 78.0,\n",
       " 46.0,\n",
       " 101.0,\n",
       " 73.0,\n",
       " 89.0,\n",
       " 55.0,\n",
       " 78.0,\n",
       " 109.0,\n",
       " 89.0,\n",
       " 87.0,\n",
       " 83.0,\n",
       " 114.0,\n",
       " 98.0,\n",
       " 152.0,\n",
       " 81.0,\n",
       " 99.0,\n",
       " 108.0,\n",
       " 131.0,\n",
       " 137.0,\n",
       " 108.0,\n",
       " 98.0,\n",
       " 113.0,\n",
       " 114.0,\n",
       " 131.0,\n",
       " 151.0,\n",
       " 149.0,\n",
       " 123.0,\n",
       " 145.0,\n",
       " 136.0,\n",
       " 137.0,\n",
       " 116.0,\n",
       " 147.0,\n",
       " 155.0,\n",
       " 190.0,\n",
       " 174.0,\n",
       " 116.0,\n",
       " 137.0,\n",
       " 183.0,\n",
       " 141.0,\n",
       " 171.0,\n",
       " 147.0,\n",
       " 145.0,\n",
       " 198.0,\n",
       " 161.0,\n",
       " 139.0,\n",
       " 173.0,\n",
       " 209.0,\n",
       " 162.0,\n",
       " 203.0,\n",
       " 155.0]"
      ]
     },
     "execution_count": 29,
     "metadata": {},
     "output_type": "execute_result"
    }
   ],
   "source": [
    "config = {\n",
    "            'gamma':0.95,\n",
    "            'learning_rate':0.001,\n",
    "            'nb_actions':2,\n",
    "            'batch_size':20,\n",
    "            'buffer_size':1000000,\n",
    "            'epsilon_max':1,\n",
    "            'epsilon_min':0.01,\n",
    "            'epsilon_decay_period':1000,\n",
    "            'epsilon_delay_decay':20,\n",
    "            'max_episode':200,\n",
    "            }\n",
    "agent = DQN_agent(config,model=DQN)\n",
    "agent.train(cartpole,config['max_episode'])\n"
   ]
  },
  {
   "cell_type": "code",
   "execution_count": 31,
   "metadata": {},
   "outputs": [
    {
     "name": "stdout",
     "output_type": "stream",
     "text": [
      "Episode   1, epsilon   1.00, batch size    17, episode return 17.0\n",
      "Episode   2, epsilon   0.91, batch size   108, episode return 91.0\n",
      "Episode   3, epsilon   0.90, batch size   121, episode return 13.0\n",
      "Episode   4, epsilon   0.88, batch size   140, episode return 19.0\n",
      "Episode   5, epsilon   0.85, batch size   175, episode return 35.0\n",
      "Episode   6, epsilon   0.80, batch size   218, episode return 43.0\n",
      "Episode   7, epsilon   0.74, batch size   280, episode return 62.0\n",
      "Episode   8, epsilon   0.69, batch size   339, episode return 59.0\n",
      "Episode   9, epsilon   0.65, batch size   377, episode return 38.0\n",
      "Episode  10, epsilon   0.63, batch size   390, episode return 13.0\n",
      "Episode  11, epsilon   0.59, batch size   437, episode return 47.0\n",
      "Episode  12, epsilon   0.45, batch size   572, episode return 135.0\n",
      "Episode  13, epsilon   0.35, batch size   673, episode return 101.0\n",
      "Episode  14, epsilon   0.24, batch size   792, episode return 119.0\n",
      "Episode  15, epsilon   0.12, batch size   913, episode return 121.0\n",
      "Episode  16, epsilon   0.01, batch size  1038, episode return 125.0\n",
      "Episode  17, epsilon   0.01, batch size  1191, episode return 153.0\n",
      "Episode  18, epsilon   0.01, batch size  1337, episode return 146.0\n",
      "Episode  19, epsilon   0.01, batch size  1485, episode return 148.0\n",
      "Episode  20, epsilon   0.01, batch size  1629, episode return 144.0\n",
      "Episode  21, epsilon   0.01, batch size  1770, episode return 141.0\n",
      "Episode  22, epsilon   0.01, batch size  1943, episode return 173.0\n",
      "Episode  23, epsilon   0.01, batch size  2116, episode return 173.0\n",
      "Episode  24, epsilon   0.01, batch size  2282, episode return 166.0\n",
      "Episode  25, epsilon   0.01, batch size  2424, episode return 142.0\n",
      "Episode  26, epsilon   0.01, batch size  2574, episode return 150.0\n",
      "Episode  27, epsilon   0.01, batch size  2712, episode return 138.0\n",
      "Episode  28, epsilon   0.01, batch size  2847, episode return 135.0\n",
      "Episode  29, epsilon   0.01, batch size  2990, episode return 143.0\n",
      "Episode  30, epsilon   0.01, batch size  3165, episode return 175.0\n",
      "Episode  31, epsilon   0.01, batch size  3356, episode return 191.0\n",
      "Episode  32, epsilon   0.01, batch size  3517, episode return 161.0\n",
      "Episode  33, epsilon   0.01, batch size  3671, episode return 154.0\n",
      "Episode  34, epsilon   0.01, batch size  3829, episode return 158.0\n",
      "Episode  35, epsilon   0.01, batch size  4009, episode return 180.0\n",
      "Episode  36, epsilon   0.01, batch size  4156, episode return 147.0\n",
      "Episode  37, epsilon   0.01, batch size  4304, episode return 148.0\n",
      "Episode  38, epsilon   0.01, batch size  4436, episode return 132.0\n",
      "Episode  39, epsilon   0.01, batch size  4654, episode return 218.0\n",
      "Episode  40, epsilon   0.01, batch size  4824, episode return 170.0\n",
      "Episode  41, epsilon   0.01, batch size  4977, episode return 153.0\n",
      "Episode  42, epsilon   0.01, batch size  5115, episode return 138.0\n",
      "Episode  43, epsilon   0.01, batch size  5284, episode return 169.0\n",
      "Episode  44, epsilon   0.01, batch size  5451, episode return 167.0\n",
      "Episode  45, epsilon   0.01, batch size  5606, episode return 155.0\n",
      "Episode  46, epsilon   0.01, batch size  5743, episode return 137.0\n",
      "Episode  47, epsilon   0.01, batch size  5942, episode return 199.0\n",
      "Episode  48, epsilon   0.01, batch size  6099, episode return 157.0\n",
      "Episode  49, epsilon   0.01, batch size  6278, episode return 179.0\n",
      "Episode  50, epsilon   0.01, batch size  6454, episode return 176.0\n",
      "Episode  51, epsilon   0.01, batch size  6616, episode return 162.0\n",
      "Episode  52, epsilon   0.01, batch size  6766, episode return 150.0\n",
      "Episode  53, epsilon   0.01, batch size  6908, episode return 142.0\n",
      "Episode  54, epsilon   0.01, batch size  7091, episode return 183.0\n",
      "Episode  55, epsilon   0.01, batch size  7293, episode return 202.0\n",
      "Episode  56, epsilon   0.01, batch size  7466, episode return 173.0\n",
      "Episode  57, epsilon   0.01, batch size  7623, episode return 157.0\n",
      "Episode  58, epsilon   0.01, batch size  7784, episode return 161.0\n",
      "Episode  59, epsilon   0.01, batch size  7958, episode return 174.0\n",
      "Episode  60, epsilon   0.01, batch size  8099, episode return 141.0\n",
      "Episode  61, epsilon   0.01, batch size  8260, episode return 161.0\n",
      "Episode  62, epsilon   0.01, batch size  8412, episode return 152.0\n",
      "Episode  63, epsilon   0.01, batch size  8590, episode return 178.0\n",
      "Episode  64, epsilon   0.01, batch size  8756, episode return 166.0\n",
      "Episode  65, epsilon   0.01, batch size  8949, episode return 193.0\n",
      "Episode  66, epsilon   0.01, batch size  9175, episode return 226.0\n",
      "Episode  67, epsilon   0.01, batch size  9354, episode return 179.0\n",
      "Episode  68, epsilon   0.01, batch size  9498, episode return 144.0\n",
      "Episode  69, epsilon   0.01, batch size  9696, episode return 198.0\n",
      "Episode  70, epsilon   0.01, batch size  9877, episode return 181.0\n",
      "Episode  71, epsilon   0.01, batch size 10111, episode return 234.0\n",
      "Episode  72, epsilon   0.01, batch size 10268, episode return 157.0\n",
      "Episode  73, epsilon   0.01, batch size 10460, episode return 192.0\n",
      "Episode  74, epsilon   0.01, batch size 10615, episode return 155.0\n",
      "Episode  75, epsilon   0.01, batch size 10808, episode return 193.0\n",
      "Episode  76, epsilon   0.01, batch size 11003, episode return 195.0\n",
      "Episode  77, epsilon   0.01, batch size 11237, episode return 234.0\n",
      "Episode  78, epsilon   0.01, batch size 11399, episode return 162.0\n",
      "Episode  79, epsilon   0.01, batch size 11550, episode return 151.0\n",
      "Episode  80, epsilon   0.01, batch size 11688, episode return 138.0\n",
      "Episode  81, epsilon   0.01, batch size 11846, episode return 158.0\n",
      "Episode  82, epsilon   0.01, batch size 12023, episode return 177.0\n",
      "Episode  83, epsilon   0.01, batch size 12180, episode return 157.0\n",
      "Episode  84, epsilon   0.01, batch size 12322, episode return 142.0\n",
      "Episode  85, epsilon   0.01, batch size 12480, episode return 158.0\n",
      "Episode  86, epsilon   0.01, batch size 12657, episode return 177.0\n",
      "Episode  87, epsilon   0.01, batch size 12818, episode return 161.0\n",
      "Episode  88, epsilon   0.01, batch size 12984, episode return 166.0\n",
      "Episode  89, epsilon   0.01, batch size 13134, episode return 150.0\n",
      "Episode  90, epsilon   0.01, batch size 13289, episode return 155.0\n",
      "Episode  91, epsilon   0.01, batch size 13452, episode return 163.0\n",
      "Episode  92, epsilon   0.01, batch size 13614, episode return 162.0\n",
      "Episode  93, epsilon   0.01, batch size 13779, episode return 165.0\n",
      "Episode  94, epsilon   0.01, batch size 13923, episode return 144.0\n",
      "Episode  95, epsilon   0.01, batch size 14059, episode return 136.0\n",
      "Episode  96, epsilon   0.01, batch size 14206, episode return 147.0\n",
      "Episode  97, epsilon   0.01, batch size 14379, episode return 173.0\n",
      "Episode  98, epsilon   0.01, batch size 14533, episode return 154.0\n",
      "Episode  99, epsilon   0.01, batch size 14681, episode return 148.0\n",
      "Episode 100, epsilon   0.01, batch size 14831, episode return 150.0\n",
      "Episode 101, epsilon   0.01, batch size 14988, episode return 157.0\n",
      "Episode 102, epsilon   0.01, batch size 15133, episode return 145.0\n",
      "Episode 103, epsilon   0.01, batch size 15292, episode return 159.0\n",
      "Episode 104, epsilon   0.01, batch size 15473, episode return 181.0\n",
      "Episode 105, epsilon   0.01, batch size 15622, episode return 149.0\n",
      "Episode 106, epsilon   0.01, batch size 15781, episode return 159.0\n",
      "Episode 107, epsilon   0.01, batch size 15919, episode return 138.0\n",
      "Episode 108, epsilon   0.01, batch size 16088, episode return 169.0\n",
      "Episode 109, epsilon   0.01, batch size 16278, episode return 190.0\n",
      "Episode 110, epsilon   0.01, batch size 16446, episode return 168.0\n",
      "Episode 111, epsilon   0.01, batch size 16642, episode return 196.0\n",
      "Episode 112, epsilon   0.01, batch size 16818, episode return 176.0\n",
      "Episode 113, epsilon   0.01, batch size 16969, episode return 151.0\n",
      "Episode 114, epsilon   0.01, batch size 17163, episode return 194.0\n",
      "Episode 115, epsilon   0.01, batch size 17326, episode return 163.0\n",
      "Episode 116, epsilon   0.01, batch size 17478, episode return 152.0\n",
      "Episode 117, epsilon   0.01, batch size 17624, episode return 146.0\n",
      "Episode 118, epsilon   0.01, batch size 17769, episode return 145.0\n",
      "Episode 119, epsilon   0.01, batch size 17927, episode return 158.0\n",
      "Episode 120, epsilon   0.01, batch size 18108, episode return 181.0\n",
      "Episode 121, epsilon   0.01, batch size 18277, episode return 169.0\n",
      "Episode 122, epsilon   0.01, batch size 18424, episode return 147.0\n",
      "Episode 123, epsilon   0.01, batch size 18567, episode return 143.0\n",
      "Episode 124, epsilon   0.01, batch size 18728, episode return 161.0\n",
      "Episode 125, epsilon   0.01, batch size 18905, episode return 177.0\n",
      "Episode 126, epsilon   0.01, batch size 19103, episode return 198.0\n",
      "Episode 127, epsilon   0.01, batch size 19297, episode return 194.0\n",
      "Episode 128, epsilon   0.01, batch size 19448, episode return 151.0\n",
      "Episode 129, epsilon   0.01, batch size 19623, episode return 175.0\n",
      "Episode 130, epsilon   0.01, batch size 19789, episode return 166.0\n",
      "Episode 131, epsilon   0.01, batch size 19957, episode return 168.0\n",
      "Episode 132, epsilon   0.01, batch size 20129, episode return 172.0\n",
      "Episode 133, epsilon   0.01, batch size 20304, episode return 175.0\n",
      "Episode 134, epsilon   0.01, batch size 20493, episode return 189.0\n",
      "Episode 135, epsilon   0.01, batch size 20652, episode return 159.0\n",
      "Episode 136, epsilon   0.01, batch size 20814, episode return 162.0\n",
      "Episode 137, epsilon   0.01, batch size 21093, episode return 279.0\n",
      "Episode 138, epsilon   0.01, batch size 21264, episode return 171.0\n",
      "Episode 139, epsilon   0.01, batch size 21436, episode return 172.0\n",
      "Episode 140, epsilon   0.01, batch size 21605, episode return 169.0\n",
      "Episode 141, epsilon   0.01, batch size 21780, episode return 175.0\n",
      "Episode 142, epsilon   0.01, batch size 21929, episode return 149.0\n",
      "Episode 143, epsilon   0.01, batch size 22072, episode return 143.0\n",
      "Episode 144, epsilon   0.01, batch size 22302, episode return 230.0\n",
      "Episode 145, epsilon   0.01, batch size 22446, episode return 144.0\n",
      "Episode 146, epsilon   0.01, batch size 22619, episode return 173.0\n",
      "Episode 147, epsilon   0.01, batch size 22835, episode return 216.0\n",
      "Episode 148, epsilon   0.01, batch size 23046, episode return 211.0\n",
      "Episode 149, epsilon   0.01, batch size 23239, episode return 193.0\n",
      "Episode 150, epsilon   0.01, batch size 23420, episode return 181.0\n",
      "Episode 151, epsilon   0.01, batch size 23633, episode return 213.0\n",
      "Episode 152, epsilon   0.01, batch size 23806, episode return 173.0\n",
      "Episode 153, epsilon   0.01, batch size 23970, episode return 164.0\n",
      "Episode 154, epsilon   0.01, batch size 24261, episode return 291.0\n",
      "Episode 155, epsilon   0.01, batch size 24422, episode return 161.0\n",
      "Episode 156, epsilon   0.01, batch size 24593, episode return 171.0\n",
      "Episode 157, epsilon   0.01, batch size 24777, episode return 184.0\n",
      "Episode 158, epsilon   0.01, batch size 24959, episode return 182.0\n",
      "Episode 159, epsilon   0.01, batch size 25154, episode return 195.0\n",
      "Episode 160, epsilon   0.01, batch size 25381, episode return 227.0\n",
      "Episode 161, epsilon   0.01, batch size 25584, episode return 203.0\n",
      "Episode 162, epsilon   0.01, batch size 25787, episode return 203.0\n",
      "Episode 163, epsilon   0.01, batch size 25959, episode return 172.0\n",
      "Episode 164, epsilon   0.01, batch size 26149, episode return 190.0\n",
      "Episode 165, epsilon   0.01, batch size 26326, episode return 177.0\n",
      "Episode 166, epsilon   0.01, batch size 26463, episode return 137.0\n",
      "Episode 167, epsilon   0.01, batch size 26630, episode return 167.0\n",
      "Episode 168, epsilon   0.01, batch size 26780, episode return 150.0\n",
      "Episode 169, epsilon   0.01, batch size 26927, episode return 147.0\n",
      "Episode 170, epsilon   0.01, batch size 27112, episode return 185.0\n",
      "Episode 171, epsilon   0.01, batch size 27331, episode return 219.0\n",
      "Episode 172, epsilon   0.01, batch size 27547, episode return 216.0\n",
      "Episode 173, epsilon   0.01, batch size 27707, episode return 160.0\n",
      "Episode 174, epsilon   0.01, batch size 27901, episode return 194.0\n",
      "Episode 175, epsilon   0.01, batch size 28050, episode return 149.0\n",
      "Episode 176, epsilon   0.01, batch size 28366, episode return 316.0\n",
      "Episode 177, epsilon   0.01, batch size 28516, episode return 150.0\n",
      "Episode 178, epsilon   0.01, batch size 28672, episode return 156.0\n",
      "Episode 179, epsilon   0.01, batch size 28842, episode return 170.0\n",
      "Episode 180, epsilon   0.01, batch size 28974, episode return 132.0\n",
      "Episode 181, epsilon   0.01, batch size 29108, episode return 134.0\n",
      "Episode 182, epsilon   0.01, batch size 29256, episode return 148.0\n",
      "Episode 183, epsilon   0.01, batch size 29384, episode return 128.0\n",
      "Episode 184, epsilon   0.01, batch size 29521, episode return 137.0\n",
      "Episode 185, epsilon   0.01, batch size 29652, episode return 131.0\n",
      "Episode 186, epsilon   0.01, batch size 29768, episode return 116.0\n",
      "Episode 187, epsilon   0.01, batch size 29888, episode return 120.0\n",
      "Episode 188, epsilon   0.01, batch size 30017, episode return 129.0\n",
      "Episode 189, epsilon   0.01, batch size 30168, episode return 151.0\n",
      "Episode 190, epsilon   0.01, batch size 30340, episode return 172.0\n",
      "Episode 191, epsilon   0.01, batch size 30480, episode return 140.0\n",
      "Episode 192, epsilon   0.01, batch size 30612, episode return 132.0\n",
      "Episode 193, epsilon   0.01, batch size 30760, episode return 148.0\n",
      "Episode 194, epsilon   0.01, batch size 30914, episode return 154.0\n",
      "Episode 195, epsilon   0.01, batch size 31055, episode return 141.0\n",
      "Episode 196, epsilon   0.01, batch size 31229, episode return 174.0\n",
      "Episode 197, epsilon   0.01, batch size 31412, episode return 183.0\n",
      "Episode 198, epsilon   0.01, batch size 31575, episode return 163.0\n",
      "Episode 199, epsilon   0.01, batch size 31727, episode return 152.0\n",
      "Episode 200, epsilon   0.01, batch size 31884, episode return 157.0\n",
      "175\n"
     ]
    },
    {
     "data": {
      "image/png": "[encoded data removed]",
      "text/plain": [
       "<Figure size 432x288 with 1 Axes>"
      ]
     },
     "metadata": {
      "needs_background": "light"
     },
     "output_type": "display_data"
    }
   ],
   "source": [
    "# %load solutions/RL5_exercise6.py\n",
    "### WRITE YOUR CODE HERE\n",
    "# If you get stuck, uncomment the line above to load a correction in this cell (then you can execute this code).\n",
    "\n",
    "config = {'observation_space': cartpole.observation_space.shape[0],\n",
    "          'nb_actions': cartpole.action_space.n,\n",
    "          'learning_rate': 0.001,\n",
    "          'gamma': 0.95,\n",
    "          'buffer_size': 1000000,\n",
    "          'epsilon_min': 0.01,\n",
    "          'epsilon_max': 1.,\n",
    "          'epsilon_decay_period': 1000,\n",
    "          'epsilon_delay_decay': 20,\n",
    "          'batch_size': 20}\n",
    "\n",
    "agent = DQN_agent(config, DQN)\n",
    "scores = agent.train(cartpole, 200)\n",
    "plt.plot(scores)\n",
    "\n",
    "x = cartpole.reset()\n",
    "cartpole.render()\n",
    "for i in range(1000):\n",
    "    a = greedy_action(DQN, x)\n",
    "    y, _, d, _ = cartpole.step(a)\n",
    "    cartpole.render()\n",
    "    x=y\n",
    "    if d:\n",
    "        print(i)\n",
    "        break\n",
    "\n",
    "cartpole.close()"
   ]
  },
  {
   "cell_type": "markdown",
   "metadata": {},
   "source": [
    "# <a id=sec5></a>Making DQN more efficient"
   ]
  },
  {
   "cell_type": "markdown",
   "metadata": {},
   "source": [
    "## <a id=sec5.1></a>Changing the optimizer\n",
    "\n",
    "The question of which optimizer to choose is quite open in RL. Most common choices are RMSprop or Adam (with, sometimes, carefully chosen hyperparameters). For the example of CartPole, it seems Adam with default parameters works better, but that's not a general rule."
   ]
  },
  {
   "cell_type": "markdown",
   "metadata": {},
   "source": [
    "## <a id=sec5.2></a>Several gradient steps\n",
    "\n",
    "Recall that within an iteration of Value Iteration, one aims at minimizing the $L_n(\\theta)$ (before moving on to the next iteration). Why take a single gradient step on this loss when a new sample is collected? Taking several gradient steps can greatly accelerate the convergence in terms of number of collected samples. That's what is commonly called *sample efficiency*."
   ]
  },
  {
   "cell_type": "markdown",
   "metadata": {},
   "source": [
    "## <a id=sec5.3></a>Target network\n",
    "\n",
    "It appears the code above will (probably) slowly converge to $Q^*$ but this convergence might be unstable and noisy. This can be greatly improved by taking several gradient steps on a given loss function $L_n$ instead of changing the loss function after each sample. This idea is similar to the one above. And is the same as that of delayed updates that we introduced in the class on temporal difference learning. \n",
    "\n",
    "In practice, this is achieved by the introduction of a *target network* whose parameters are noted $\\theta^-$. This idea for DQN was introduced in the **[Human-level control through deep reinforcement learning](https://deepmind.com/research/publications/human-level-control-through-deep-reinforcement-learning)** paper. At any time step, the loss becomes:\n",
    "$$L(\\theta) = \\mathbb{E}_{s,a,r,s'} \\left[ \\left( r + \\gamma \\max_{a'} Q(s',a',\\theta^-) - Q(s,a;\\theta) \\right) ^2 \\right],$$\n",
    "and the target network parameters $\\theta^-$ are only updated with the Q-network parameters $\\theta_n$ every $C$ steps and are held fixed between individual updates.\n",
    "\n",
    "This process of accumulating several gradient steps into $\\theta_n$ before updating $\\theta^-$ draws our algorithm closer to a Value Iteration scheme (or a Fitted Q-Iteration scheme for that matter).\n",
    "\n",
    "Note that more recent approaches smooth out this accumulation process by defining soft updates of the form:\n",
    "$$\\theta^- \\leftarrow \\beta \\theta^- + (1-\\beta) \\theta_n.$$"
   ]
  },
  {
   "cell_type": "markdown",
   "metadata": {},
   "source": [
    "## <a id=sec5.4></a>Error clipping\n",
    "\n",
    "Another common pratice to stabilize learning is to clip the value of the loss' gradient between $-1$ and $1$. This is not such an uncommon trick, it actually amounts to using an L2 loss for values of the loss between $-1$ and $1$ and an L1 loss outside of this domain. This is also know as the [Huber Loss](https://en.wikipedia.org/wiki/Huber_loss) or the [smooth L1 loss](https://pytorch.org/docs/stable/nn.html#smoothl1loss)."
   ]
  },
  {
   "cell_type": "markdown",
   "metadata": {},
   "source": [
    "<div class=\"alert alert-warning\">\n",
    "    \n",
    "**Exercise:**  \n",
    "Modify you code from the previous exercises to include a target network (with $C$ in the order of $100$), a fixed number of gradient steps per acquired sample, and the clipping of the error term. You can also use Adam for improved efficiency.\n",
    "</div>"
   ]
  },
  {
   "cell_type": "code",
   "execution_count": null,
   "metadata": {},
   "outputs": [],
   "source": [
    "# %load solutions/RL5_exercise7.py\n",
    "### WRITE YOUR CODE HERE\n",
    "# If you get stuck, uncomment the line above to load a correction in this cell (then you can execute this code).\n"
   ]
  },
  {
   "cell_type": "markdown",
   "metadata": {},
   "source": [
    "<div class=\"alert alert-warning\">\n",
    "    \n",
    "**Exercise:**  \n",
    "Run your code to learn an efficient policy for CartPole. Don't forget to reset the network before you start learning.\n",
    "</div>"
   ]
  },
  {
   "cell_type": "code",
   "execution_count": null,
   "metadata": {},
   "outputs": [],
   "source": [
    "# %load solutions/RL5_exercise8.py\n",
    "### WRITE YOUR CODE HERE\n",
    "# If you get stuck, uncomment the line above to load a correction in this cell (then you can execute this code)."
   ]
  },
  {
   "cell_type": "markdown",
   "metadata": {},
   "source": [
    "# <a id=\"sec6\"></a> Metrics\n",
    "\n",
    "Let's take a step back to reflect about what we really measure in the experiment above. We have counted the number of steps per training episode. But during these episodes, the applied policy was $\\epsilon$-greedy, not greedy. So this is not an objective measure of performance.\n",
    "\n",
    "On the other hand, what is really being optimized here is the average sum of discounted rewards.\n",
    "\n",
    "<div class=\"alert alert-warning\">\n",
    "    \n",
    "**Exercise:**  \n",
    "Enhance your previous code with the monitoring, after each episode, of:\n",
    "- the number of steps of the training episode\n",
    "- a Monte Carlo estimate of the total sum of rewards from the (distribution of) starting state,\n",
    "- a Monte Carlo estimate of the sum of discounted rewards from the (distribution of) starting state,\n",
    "- an average, over possible starting states $s_0$ of the current $\\max_a Q(s_0,a)$.\n",
    "</div>"
   ]
  },
  {
   "cell_type": "code",
   "execution_count": null,
   "metadata": {},
   "outputs": [],
   "source": [
    "# %load solutions/RL5_exercise9.py\n",
    "### WRITE YOUR CODE HERE\n",
    "# If you get stuck, uncomment the line above to load a correction in this cell (then you can execute this code)."
   ]
  },
  {
   "cell_type": "markdown",
   "metadata": {},
   "source": [
    "<div class=\"alert alert-warning\">\n",
    "    \n",
    "**Exercise:**  \n",
    "Use this monitoring to plot these values versus the number of episodes, after training.\n",
    "</div>"
   ]
  },
  {
   "cell_type": "code",
   "execution_count": null,
   "metadata": {},
   "outputs": [],
   "source": [
    "# %load solutions/RL5_exercise10.py\n",
    "### WRITE YOUR CODE HERE\n",
    "# If you get stuck, uncomment the line above to load a correction in this cell (then you can execute this code)."
   ]
  },
  {
   "cell_type": "markdown",
   "metadata": {},
   "source": [
    "Remarks on CartPole:\n",
    "- Have you noted that Q overestimates the true value of the optimal policy? More on this in [this paper](https://papers.nips.cc/paper/3964-double-q-learning) if you are interested.\n",
    "- Have you noted that the greedy policy is optimal much sooner than the $Q$ function?\n",
    "- Have you remarked that the greedy policy performs well much sooner than the agent's policy (which is $\\epsilon$-greedy)?\n",
    "- Can you anticipate the importance of well tuned exploration, for instance if the state space is much larger, or if parts of it are very hard to reach?\n",
    "- Can you anticipate the effect of taking a larger $\\gamma$?"
   ]
  },
  {
   "cell_type": "markdown",
   "metadata": {},
   "source": [
    "<div class=\"alert alert-warning\">\n",
    "    \n",
    "**Exercise:**  \n",
    "Train on SwingUp.\n",
    "</div>"
   ]
  },
  {
   "cell_type": "code",
   "execution_count": null,
   "metadata": {},
   "outputs": [],
   "source": [
    "# %load solutions/RL5_exercise11.py\n",
    "### WRITE YOUR CODE HERE\n",
    "# If you get stuck, uncomment the line above to load a correction in this cell (then you can execute this code)."
   ]
  },
  {
   "cell_type": "markdown",
   "metadata": {},
   "source": [
    "Remarks on SwingUp:\n",
    "- Did your DQN learn to avoid the -10 penalty instead of swinging up? The exploration question becomes a crucial issue, doesn't it?"
   ]
  },
  {
   "cell_type": "markdown",
   "metadata": {},
   "source": [
    "# <a id=\"sec7\"></a>DQN on image-based tasks\n",
    "\n",
    "Now it's time to turn towards Pong. As you noted earlier, the frame information in Pong is not sufficient to define an MDP, but stacking several frames together allows to recover the Markov property.\n",
    "\n",
    "We could wish to modify the previous replay buffer so that frames are stored only once (for memory efficiency). Then this new replay buffer would still need to return stacks of 4 frames when `sample()` is called.\n",
    "\n",
    "Fortunately, there's a simpler way to do that.\n",
    "We can use a wrapper (provided by Gym in this case) so that calling env.step(a) returns a stack of 4 frames.\n",
    "This wrapper actually only stores each frame once which optimizes memory efficiency. This way, we can keep on using our previous replay buffer class."
   ]
  },
  {
   "cell_type": "code",
   "execution_count": null,
   "metadata": {},
   "outputs": [],
   "source": [
    "from gym.wrappers import FrameStack\n",
    "pong = FrameStack(pong, 4)"
   ]
  },
  {
   "cell_type": "code",
   "execution_count": null,
   "metadata": {},
   "outputs": [],
   "source": [
    "x = pong.reset()\n",
    "print(torch.Tensor(x).shape)"
   ]
  },
  {
   "cell_type": "markdown",
   "metadata": {},
   "source": [
    "The two DQN papers ([Playing Atari with Deep Reinforcement Learning](https://arxiv.org/abs/1312.5602) and [Human-level control through deep reinforcement learning](https://deepmind.com/research/publications/human-level-control-through-deep-reinforcement-learning)) actually introduce two different neural network architectures.\n",
    "\n",
    "The 2013 paper uses this architecture:\n",
    "- input: $84\\times 84\\times 4$ image (the last 4 frames)\n",
    "- layer 1: Convolutions with 16 filters of size $8\\times 8$ and stride 4. The activation is a ReLU function.\n",
    "- layer 2: Convolutions with 32 filters of size $4\\times 4$ and stride 2. The activation is a ReLU function.\n",
    "- layer 3: Fully connected with 256 ReLU units\n",
    "- layer 4 (output): Fully connected with 2 linear units (one for each action's value)\n",
    "\n",
    "The 2015 paper \n",
    "- input: $84\\times 84\\times 4$ image (the last 4 frames)\n",
    "- layer 1: Convolutions with 32 filters of size $8\\times 8$ and stride 4. The activation is a ReLU function.\n",
    "- layer 2: Convolutions with 64 filters of size $4\\times 4$ and stride 2. The activation is a ReLU function.\n",
    "- layer 3: Convolutions with 64 filters of size $3\\times 3$ and stride 1. The activation is a ReLU function.\n",
    "- layer 4: Fully connected with 512 ReLU units\n",
    "- layer 5 (output): Fully connected with 2 linear units (one for each action's value)\n",
    "\n",
    "Also, it is a good practice to pre-fill the replay buffer with randomly sampled experience. The 2015 paper runs a random policy for 50000 steps to feed the replay buffer before training."
   ]
  },
  {
   "cell_type": "markdown",
   "metadata": {},
   "source": [
    "<div class=\"alert alert-warning\">\n",
    "    \n",
    "**Exercise:** Create the corresponding neural network and adapt your optimization code from the previous exercice to train on Pong (you can take $C$ much larger, in the order of $10000$).\n",
    "</div>\n",
    "\n",
    "Caveat: unless you have a good GPU and a fair amount of time ahead of you (several hours or more), it is recommended to run this computation for a limited number of episodes, on a cloud computing service (or on a dediated machine)."
   ]
  },
  {
   "cell_type": "code",
   "execution_count": null,
   "metadata": {},
   "outputs": [],
   "source": [
    "# %load solutions/RL5_exercise12.py\n",
    "### WRITE YOUR CODE HERE\n",
    "# If you get stuck, uncomment the line above to load a correction in this cell (then you can execute this code)."
   ]
  },
  {
   "cell_type": "markdown",
   "metadata": {},
   "source": [
    "To give you an idea of the behavior of a trained agent, you can check the following videos."
   ]
  },
  {
   "cell_type": "code",
   "execution_count": null,
   "metadata": {},
   "outputs": [],
   "source": [
    "from IPython.display import YouTubeVideo\n",
    "YouTubeVideo(\"p88R2_3yWPA\")"
   ]
  },
  {
   "cell_type": "code",
   "execution_count": null,
   "metadata": {},
   "outputs": [],
   "source": [
    "YouTubeVideo(\"TmPfTpjtdgg\")"
   ]
  },
  {
   "cell_type": "markdown",
   "metadata": {},
   "source": [
    "# <a id=\"sec7\"></a>Going further\n",
    "\n",
    "A lot of contributions have built on the initial success of DQN. Among those, some are combined and discussed in the **[Rainbow: Combining Improvements in Deep Reinforcement Learning](https://arxiv.org/abs/1710.02298)** paper. We will simply summarize their key ideas here, by decreasing order of importance (according to the paper).\n",
    "\n",
    "- N-step returns. Use samples that accumulate several returns rather than the 1-step return of TD(0).\n",
    "- [Prioritized experience replay](https://arxiv.org/abs/1511.05952). Inspired by the model-based [Prioritized Sweeping](https://link.springer.com/article/10.1007/BF00993104) approach, bias the distribution used to sample mini-batches in order to present high residual samples to the optimizer. Prioritized Sweeping is designed to accelerate the convergence in $L_\\infty$ norm for tabular representations.\n",
    "- [Distributional value functions](https://arxiv.org/abs/1707.06887). Instead of estimating $\\mathbb{E}(\\sum_t \\gamma^t r_t)$, estimate the distribution of $\\sum_t \\gamma^r r_t$ and iterate on it.\n",
    "- [NoisyNet](https://arxiv.org/abs/1706.10295). Instead of an $\\epsilon$-greedy exploration strategy, introduce noise in the network's parameters to drive the exploration.\n",
    "- [Dueling architecture](https://arxiv.org/abs/1511.06581). The neural network's architecture splits $Q$ into the estimation of a value $V(s)$ and an advantage $A(s,a)$ with shared first layers.\n",
    "- [Double Q-learning](https://arxiv.org/abs/1509.06461). Q-learning is prone to over-estimation of the true optimal Q function (especially in high variance environments). Double Q-learning aims at compensating this weakness by introducing an under-estimation mechanism based on a second Q function.\n",
    "\n",
    "Beyond these improvements, new work is published each year that leads to a better understanding of the interplay between Deep Learning and RL."
   ]
  },
  {
   "cell_type": "markdown",
   "metadata": {},
   "source": [
    "# <a id=\"challenge\"></a>Challenge\n",
    "\n",
    "In this challenge, we provide two new environments, on top of the SwingUp problem introduced before. All environments feature different difficulties. It is recommended that you focus on a single environment."
   ]
  },
  {
   "cell_type": "markdown",
   "metadata": {},
   "source": [
    "## <a id=\"bicycle\"></a>Bicycle\n",
    "\n",
    "This environment was originally introduced in the 1998 article on **[Learning to Drive a Bicycle Using Reinforcement Learning and Shaping](#https://www.researchgate.net/publication/221346431_Learning_to_Drive_a_Bicycle_Using_Reinforcement_Learning_and_Shaping)** by J. Randløv and P. Alstrøm. Notably, it was also one of the key benchmarks for **[Least Squares Policy Iteration](http://www.jmlr.org/papers/volume4/lagoudakis03a/lagoudakis03a.pdf)** by Lagoudakis and Parr in 2003.\n",
    "\n",
    "The environment provided here uses the exact same simulator but defines more rigorously the state variables. It is not a gym environment and has no `render` method, but it still provides the `step` and `reset` methods.\n",
    "\n",
    "In short, in this environment you try to ride a bicyle from an initial location $(x,y)=(0,0)$ to a goal that is located one kilometer further $(x_{goal},y_{goal})=(1000,0)$.\n",
    "\n",
    "The bicycle state variables are:\n",
    "- $\\theta$ the angle of the handlebar\n",
    "- $\\dot{\\theta}$\n",
    "- $\\omega$ the tilt angle between the $z$-axis and the bicycle+cyclist center of mass\n",
    "- $\\dot{\\omega}$\n",
    "- $x_b,y_b$ the position of the bicyle's back tire\n",
    "- $x_f,y_f$ the position of the bicyle's front tire\n",
    "- $\\psi'_{goal}$ a not-so-useful variable kept for historical reasons, that is roughly proprotional to $\\psi_{goal}$\n",
    "- $d_{goal}$ the distance between the front tire and the goal\n",
    "- $\\psi$ the bicycle's heading angle (angle between the bicycle and the y-axis)\n",
    "- $\\psi_{goal}$ the angle between the bicycle back wheel - front wheel axis, and the back wheel - goal axis\n",
    "\n",
    "The agent starts at $(x_b,y_b)=(0,0)$ with a random heading in $[-\\pi,\\pi]$, and random small values for $\\theta$, $\\dot{\\theta}$, $\\omega$ and $\\dot{\\omega}$ around the unstable equilibrium point."
   ]
  },
  {
   "cell_type": "code",
   "execution_count": null,
   "metadata": {},
   "outputs": [],
   "source": [
    "from environments.bicycle import Bicycle\n",
    "bike = Bicycle()\n",
    "x = bike.reset()\n",
    "print(x)"
   ]
  },
  {
   "cell_type": "markdown",
   "metadata": {},
   "source": [
    "The cyclist moves at a constant speed and his actions to control the bicycle consist in applying a torque to the handlebar or shifting his weight left or right. The action space is discrete and consists of 5 actions. What you pass to the `step` method is the action index.\n",
    "\n",
    "The episode ends when the tilt angle exceeds $\\frac{\\pi}{15}$.\n",
    "\n",
    "To encourage the bike staying up and guiding it towards the goal, the reward model uses *reward shaping*. It is written:\n",
    "$$r(s,a,s') = \\omega^2 - \\omega'^2 + k\\cdot\\left( d_{goal} - d'_{goal} \\right)$$"
   ]
  },
  {
   "cell_type": "code",
   "execution_count": null,
   "metadata": {
    "scrolled": true
   },
   "outputs": [],
   "source": [
    "%matplotlib inline\n",
    "import matplotlib.pyplot as plt\n",
    "\n",
    "print(bike.action_set)\n",
    "X = []\n",
    "x = bike.reset()\n",
    "X.append(x)\n",
    "for i in range(1000):\n",
    "    y, r, d, _ = bike.step(0)\n",
    "    x = y\n",
    "    X.append(x)\n",
    "    if d:\n",
    "        break\n",
    "\n",
    "print(\"trajectory length\", len(X))\n",
    "X = np.array(X)\n",
    "plt.plot(X[:,4],X[:,5]);"
   ]
  },
  {
   "cell_type": "markdown",
   "metadata": {},
   "source": [
    "## <a id=\"sti\"></a>Structured Treatment Interruptions\n",
    "\n",
    "This environment implements the simulator defined in **[Dynamic Multidrug Therapies for HIV: Optimal and STI Control Approaches](https://www.aimspress.com/fileOther/PDF/MBE/1551-0018_2004_2_223.pdf)** by B. M. Adams et al. (2004). It was notably used in **[Clinical data based optimal STI strategies for HIV: a reinforcement learning approach](https://ieeexplore.ieee.org/document/4177178)** by D. Ernst et al. (2006).\n",
    "\n",
    "This environment simulates the immune system of an HIV-infected patient. It is not a gym environment and has no `render` method, but it still provides the `step` and `reset` methods. \n",
    "\n",
    "In short, HIV can infect two types of cells (type 1 and type 2 below) and replicate itself, which increases the virus load in the blood stream. The immune system fights off the virus by increasing the concentration of macrophages (effector cells below).\n",
    "\n",
    "The patient state variables are:\n",
    "- $T_1$ healthy type 1 cells concentration (cells per mL)\n",
    "- $T_1^*$ infected type 1 cells concentration (cells per mL)\n",
    "- $T_2$ healthy type 2 cells concentration (cells per mL)\n",
    "- $T_2^*$ infected type 2 cells concentration (cells per mL)\n",
    "- $V$ free virus (copies per mL)\n",
    "- $E$ immune effector cells concentration (cells per mL)\n",
    "\n",
    "Once infected, if no treatment is applied, the patient naturally evolve to one of two steady states: either the immune system controls the infection and the patient is healthy, or the infection dominates and the patient is unhealthy.\n",
    "\n",
    "By default `reset` deterministically puts the patient in the infected unhealthy state.\n",
    "\n",
    "    The transition() function allows to simulate continuous time dynamics and control.\n",
    "    The step() function is tailored for the evaluation of Structured Treatment Interruptions."
   ]
  },
  {
   "cell_type": "code",
   "execution_count": null,
   "metadata": {},
   "outputs": [],
   "source": [
    "from environments.hiv_patient import HIVPatient\n",
    "patient = HIVPatient()\n",
    "print(\"Uninfected patient:\", patient.reset(\"uninfected\"))\n",
    "print(\"Unhealthy patient:\", patient.reset()) # actually equivalent to patient.reset(\"unhealthy\")\n",
    "print(\"Healthy patient:\", patient.reset(mode=\"healthy\"))"
   ]
  },
  {
   "cell_type": "markdown",
   "metadata": {},
   "source": [
    "The `step` method simulates the evolution of the patient over a time step of $5$ days. The system is deterministic. For example, if we want to simulate a patient with a 25% immunity loss, with no treatment, over 400 days, we could do:"
   ]
  },
  {
   "cell_type": "code",
   "execution_count": null,
   "metadata": {},
   "outputs": [],
   "source": [
    "%matplotlib inline\n",
    "import matplotlib.pyplot as plt\n",
    "from environments.hiv_patient import HIVPatient\n",
    "\n",
    "patient = HIVPatient()\n",
    "s = patient.reset(mode=\"healthy\")\n",
    "s[5] *= .75\n",
    "patient.E *= .75\n",
    "print(patient.E)\n",
    "dur = 80 # 400/5\n",
    "#nb_steps = int(dur//1e-3)\n",
    "states = [s]\n",
    "for i in range(dur):\n",
    "    s, r, d, _ = patient.step(0)\n",
    "    states.append(s)\n",
    "    \n",
    "fig, axs = plt.subplots(2, 3, figsize=(15, 15))\n",
    "npst = np.array(states)\n",
    "axs[0,0].plot(npst[:,0])\n",
    "axs[0,0].set_title(\"T1\")\n",
    "axs[0,1].plot(npst[:,1])\n",
    "axs[0,1].set_title(\"T1*\")\n",
    "axs[0,2].plot(npst[:,2])\n",
    "axs[0,2].set_title(\"T2\")\n",
    "axs[1,0].plot(npst[:,3])\n",
    "axs[1,0].set_title(\"T2*\")\n",
    "axs[1,1].plot(npst[:,4])\n",
    "axs[1,1].set_title(\"V\")\n",
    "axs[1,2].plot(npst[:,5])\n",
    "axs[1,2].set_title(\"E\");"
   ]
  },
  {
   "cell_type": "markdown",
   "metadata": {},
   "source": [
    "Two types of drugs can be given to the patient, that differ in the way they affect the viral load. The problem we look at consists in giving or not a certain drug at every step, to allow for **structured treatment interruptions** (STI). Such interruptions have double goal: train the immune system to react by itself and provide the patient with a better quality of life.\n",
    "\n",
    "The action space is discrete and consists of 5 actions. What you pass to the `step` method is the action index.\n",
    "\n",
    "The patient's death over the course of treatment is not explicitly modelled (but the viral load can reach very high values). So this simulator does not have a termination condition (`step` never returns `done=True`). The reward model discourages giving drugs, aims at a low viral load and a high immunity:\n",
    "$$r(s,a,s') = -k_V \\cdot V + k_E \\cdot E -k_1 R_2 - k_2 \\cdot R_2$$\n",
    "where $R_1$ and $R_2$ are the amounts of prescribed drugs 1 and 2 respectively."
   ]
  },
  {
   "cell_type": "code",
   "execution_count": null,
   "metadata": {},
   "outputs": [],
   "source": [
    "print(patient.action_set)"
   ]
  },
  {
   "cell_type": "markdown",
   "metadata": {},
   "source": [
    "## <a id=\"turn\"></a>Your turn to play"
   ]
  },
  {
   "cell_type": "markdown",
   "metadata": {},
   "source": [
    "<div class=\"alert alert-warning\">\n",
    "    \n",
    "**Exercise (open-ended):**  \n",
    "Your turn to play!  \n",
    "Can you solve SwingUp? Bicycle? STI?  \n",
    "Why are these problems more difficult than CartPole?  \n",
    "Be creative!\n",
    "</div>"
   ]
  },
  {
   "cell_type": "code",
   "execution_count": null,
   "metadata": {},
   "outputs": [],
   "source": []
  }
 ],
 "metadata": {
  "interpreter": {
   "hash": "3a19035501555ff2cb985ca696f0374861d10e5f44788dd8d73006224bc46cbc"
  },
  "kernelspec": {
   "display_name": "Python 3 (ipykernel)",
   "language": "python",
   "name": "python3"
  },
  "language_info": {
   "codemirror_mode": {
    "name": "ipython",
    "version": 3
   },
   "file_extension": ".py",
   "mimetype": "text/x-python",
   "name": "python",
   "nbconvert_exporter": "python",
   "pygments_lexer": "ipython3",
   "version": "3.9.5"
  },
  "toc": {
   "base_numbering": 1,
   "nav_menu": {},
   "number_sections": true,
   "sideBar": true,
   "skip_h1_title": false,
   "title_cell": "Table of Contents",
   "title_sidebar": "Contents",
   "toc_cell": false,
   "toc_position": {},
   "toc_section_display": true,
   "toc_window_display": true
  }
 },
 "nbformat": 4,
 "nbformat_minor": 4
}
